{
 "cells": [
  {
   "cell_type": "markdown",
   "id": "5dec81d2-4067-46d7-a7f5-96ccdd9dc9a8",
   "metadata": {},
   "source": [
    "<span style=\"font-size:1.2em;font-weight:bold\">Weighting-MCDM PSI (Preference Selection Index) METHOD</span>"
   ]
  },
  {
   "cell_type": "markdown",
   "id": "cfd61764-4f9f-4d8e-aaae-68c880bf4915",
   "metadata": {},
   "source": [
    "<span style=\"font-size:1em\">\n",
    "A family is looking to select a new house from four options: House A, House B, House C, and House D. The decision criteria are:\n",
    "</br>\n",
    "1. Price</br>\n",
    "2. Size</br>\n",
    "3. Location</br>\n",
    "4. Age</br>\n",
    "</br>\n",
    "Steps:</br>\n",
    "1-Normalizing the data..</br>\n",
    "2-Calculating the preference values for each criterion..</br>\n",
    "3-Calculating the final weights using PSI method..</br>\n",
    "</span>"
   ]
  },
  {
   "cell_type": "code",
   "execution_count": 1,
   "id": "92e06422-30d0-49ad-8d3e-9dca7076a39e",
   "metadata": {},
   "outputs": [
    {
     "name": "stdout",
     "output_type": "stream",
     "text": [
      "Normalized Data (Normalize Edilmiş Veriler):\n",
      " [[0.33333333 0.16666667 0.66666667 0.375     ]\n",
      " [0.66666667 0.66666667 0.33333333 0.125     ]\n",
      " [0.         0.         1.         1.        ]\n",
      " [1.         1.         0.         0.        ]]\n",
      "\n",
      "Preference Values (Tercih Değerleri):\n",
      " [[0.33333333 0.16666667 0.66666667 0.375     ]\n",
      " [0.66666667 0.66666667 0.33333333 0.125     ]\n",
      " [0.         0.         1.         1.        ]\n",
      " [1.         1.         0.         0.        ]]\n",
      "\n",
      "\n",
      "Price (Fiyat) Ağırlığı: 0.2727\n",
      "Size (Büyüklük) Ağırlığı: 0.2500\n",
      "Location (Konum) Ağırlığı: 0.2727\n",
      "Age (Yaş) Ağırlığı: 0.2045\n"
     ]
    }
   ],
   "source": [
    "import numpy as np\n",
    "\n",
    "# Criteria data for each house\n",
    "data = np.array([\n",
    "    [300000, 150, 8, 5],  # House A\n",
    "    [350000, 180, 7, 3],  # House B\n",
    "    [250000, 140, 9, 10], # House C\n",
    "    [400000, 200, 6, 2]   # House D\n",
    "])\n",
    "\n",
    "# Adım 1: Verileri normalize etme / Step 1: Normalizing the data\n",
    "def normalize(data):\n",
    "    # Normalize the data (Min-Max normalization)\n",
    "    normalized_data = (data - data.min(axis=0)) / (data.max(axis=0) - data.min(axis=0))\n",
    "    return normalized_data\n",
    "\n",
    "normalized_data = normalize(data)\n",
    "\n",
    "# Adım 2: Kriterler için tercih değerlerini hesaplama / Step 2: Calculating the preference values for each criterion\n",
    "def preference_values(normalized_data):\n",
    "    # Calculate preference values as the normalized data\n",
    "    return normalized_data\n",
    "\n",
    "preference_values = preference_values(normalized_data)\n",
    "\n",
    "# Adım 3: PSI yöntemi ile ağırlıkları hesaplama / Step 3: Calculating the final weights using PSI method\n",
    "def calculate_weights(preference_values):\n",
    "    # Summing the preference values for each criterion\n",
    "    preference_sums = preference_values.sum(axis=0)\n",
    "    # Weights are the preference sums normalized\n",
    "    weights = preference_sums / preference_sums.sum()\n",
    "    return weights\n",
    "\n",
    "weights = calculate_weights(preference_values)\n",
    "\n",
    "# Sonuçları yazdırma / Printing the results\n",
    "print(\"Normalized Data (Normalize Edilmiş Veriler):\\n\", normalized_data)\n",
    "print(\"\\nPreference Values (Tercih Değerleri):\\n\", preference_values)\n",
    "print(\"\\n\")\n",
    "\n",
    "# Ağırlıkları belirli kriterlerle yazdırma / Printing the weights with specific criteria\n",
    "criteria = [\"Price (Fiyat)\", \"Size (Büyüklük)\", \"Location (Konum)\", \"Age (Yaş)\"]\n",
    "for i, weight in enumerate(weights):\n",
    "    print(f\"{criteria[i]} Ağırlığı: {weight:.4f}\")\n"
   ]
  }
 ],
 "metadata": {
  "kernelspec": {
   "display_name": "Python 3 (ipykernel)",
   "language": "python",
   "name": "python3"
  },
  "language_info": {
   "codemirror_mode": {
    "name": "ipython",
    "version": 3
   },
   "file_extension": ".py",
   "mimetype": "text/x-python",
   "name": "python",
   "nbconvert_exporter": "python",
   "pygments_lexer": "ipython3",
   "version": "3.9.0"
  }
 },
 "nbformat": 4,
 "nbformat_minor": 5
}
