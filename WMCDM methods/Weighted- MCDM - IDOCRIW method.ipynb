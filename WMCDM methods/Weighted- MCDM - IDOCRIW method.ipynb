{
 "cells": [
  {
   "cell_type": "markdown",
   "id": "4b646c3a-1730-43e5-8898-2395ad9f9962",
   "metadata": {},
   "source": [
    "<span style=\"font-size:1.2em;font-weight:bold\">Weighting-MCDM IDOCRIW (Integrated Determination of Objective Criteria Weights) METHOD</span>"
   ]
  },
  {
   "cell_type": "markdown",
   "id": "0ecde98d-ca5a-4fef-b2ca-078dca74db2b",
   "metadata": {},
   "source": [
    "<span style=\"font-size:1em\">\n",
    "A healthcare organization is looking to purchase a new medical device and has selected three different device options: Device A, Device B, and Device C. The decision criteria are:\n",
    "</br>\n",
    "1. Cost</br>\n",
    "2. Performance</br>\n",
    "3. Reliability</br>\n",
    "4. Ease of Use</br>\n",
    "</br>\n",
    "Steps:</br>\n",
    "1- Normalizing the data.</br>\n",
    "2- Calculating the variances between the criteria.</br>\n",
    "3- Calculating the correlations between the criteria.</br>\n",
    "4- Calculating the weights.</br>\n",
    "</span>"
   ]
  },
  {
   "cell_type": "code",
   "execution_count": 2,
   "id": "4beaecc6-047a-45cd-ac5c-9b2df1aa4cc1",
   "metadata": {},
   "outputs": [
    {
     "name": "stdout",
     "output_type": "stream",
     "text": [
      "Cost Weight: 0.2565\n",
      "Performance Weight: 0.2139\n",
      "Reliability Weight: 0.3082\n",
      "Ease of Use Weight: 0.2214\n"
     ]
    }
   ],
   "source": [
    "import numpy as np\n",
    "import pandas as pd\n",
    "\n",
    "# Effects of the criteria (example data)\n",
    "data = {\n",
    "    'Cost': [10000, 12000, 11000],  \n",
    "    'Performance': [85, 90, 88],     \n",
    "    'Reliability': [4, 5, 4],        \n",
    "    'Ease of Use': [7, 6, 8]        \n",
    "}\n",
    "\n",
    "# Convert data to DataFrame\n",
    "df = pd.DataFrame(data)\n",
    "\n",
    "# Normalize the effects\n",
    "def normalize(df):\n",
    "    normalized_df = df.copy()\n",
    "    for column in df.columns:\n",
    "        if column in ['Cost']: \n",
    "            normalized_df[column] = (df[column].max() - df[column]) / (df[column].max() - df[column].min())\n",
    "        else:  \n",
    "            normalized_df[column] = (df[column] - df[column].min()) / (df[column].max() - df[column].min())\n",
    "    return normalized_df\n",
    "\n",
    "normalized_df = normalize(df)\n",
    "\n",
    "# Calculate variances of the criteria\n",
    "variances = normalized_df.var()\n",
    "\n",
    "# Calculate the correlation matrix between criteria\n",
    "correlation_matrix = normalized_df.corr()\n",
    "\n",
    "# Calculate the negative correlation matrix (lower correlation means higher difference)\n",
    "negative_correlation_matrix = 1 - correlation_matrix\n",
    "\n",
    "# Calculate IDOCRIW weights\n",
    "# Step 1: Calculate the criteria importance using variances\n",
    "importance = variances / variances.sum()\n",
    "\n",
    "# Step 2: Adjust importance based on negative correlations\n",
    "adjusted_importance = importance * negative_correlation_matrix.sum()\n",
    "\n",
    "# Normalize the weights\n",
    "weights = adjusted_importance / adjusted_importance.sum()\n",
    "\n",
    "# Print the results\n",
    "for crit, weight in weights.items():\n",
    "    print(f\"{crit} Weight: {weight:.4f}\")\n"
   ]
  },
  {
   "cell_type": "code",
   "execution_count": 3,
   "id": "dbf68af7-b5e7-4433-acdc-252017c1bd19",
   "metadata": {},
   "outputs": [
    {
     "name": "stdout",
     "output_type": "stream",
     "text": [
      "Maliyet Ağırlığı: 0.2565\n",
      "Performans Ağırlığı: 0.2139\n",
      "Güvenilirlik Ağırlığı: 0.3082\n",
      "Kullanım Kolaylığı Ağırlığı: 0.2214\n"
     ]
    }
   ],
   "source": [
    "import numpy as np\n",
    "import pandas as pd\n",
    "\n",
    "# Kriterlerin etkileri (örnek veriler)\n",
    "data = {\n",
    "    'Maliyet': [10000, 12000, 11000],  \n",
    "    'Performans': [85, 90, 88],        \n",
    "    'Güvenilirlik': [4, 5, 4],         \n",
    "    'Kullanım Kolaylığı': [7, 6, 8]    \n",
    "}\n",
    "\n",
    "# Verileri DataFrame'e dönüştür\n",
    "df = pd.DataFrame(data)\n",
    "\n",
    "# Etkileri normalize et\n",
    "def normalize(df):\n",
    "    normalized_df = df.copy()\n",
    "    for column in df.columns:\n",
    "        if column in ['Maliyet']:  \n",
    "            normalized_df[column] = (df[column].max() - df[column]) / (df[column].max() - df[column].min())\n",
    "        else:  \n",
    "            normalized_df[column] = (df[column] - df[column].min()) / (df[column].max() - df[column].min())\n",
    "    return normalized_df\n",
    "\n",
    "normalized_df = normalize(df)\n",
    "\n",
    "# Kriterlerin varyanslarını hesapla\n",
    "variances = normalized_df.var()\n",
    "\n",
    "# Kriterler arası korelasyon matrisini hesapla\n",
    "correlation_matrix = normalized_df.corr()\n",
    "\n",
    "# Korelasyon matrisini negatif yap (Korelasyon azaldıkça farklılık artar)\n",
    "negative_correlation_matrix = 1 - correlation_matrix\n",
    "\n",
    "# IDOCRIW ağırlıklarını hesapla\n",
    "# Adım 1: Kriterlerin önem derecelerini varyanslara göre hesapla\n",
    "importance = variances / variances.sum()\n",
    "\n",
    "# Adım 2: Önem derecelerini negatif korelasyonlara göre ayarla\n",
    "adjusted_importance = importance * negative_correlation_matrix.sum()\n",
    "\n",
    "# Ağırlıkları normalize et\n",
    "weights = adjusted_importance / adjusted_importance.sum()\n",
    "\n",
    "# Sonuçları yazdır\n",
    "for crit, weight in weights.items():\n",
    "    print(f\"{crit} Ağırlığı: {weight:.4f}\")"
   ]
  },
  {
   "cell_type": "code",
   "execution_count": null,
   "id": "153faa91-3e08-4eb6-a624-a051f1858f2b",
   "metadata": {},
   "outputs": [],
   "source": []
  }
 ],
 "metadata": {
  "kernelspec": {
   "display_name": "Python 3 (ipykernel)",
   "language": "python",
   "name": "python3"
  },
  "language_info": {
   "codemirror_mode": {
    "name": "ipython",
    "version": 3
   },
   "file_extension": ".py",
   "mimetype": "text/x-python",
   "name": "python",
   "nbconvert_exporter": "python",
   "pygments_lexer": "ipython3",
   "version": "3.9.0"
  }
 },
 "nbformat": 4,
 "nbformat_minor": 5
}
