{
 "cells": [
  {
   "cell_type": "markdown",
   "id": "d1f05fa4-a236-489f-98fa-ef5a5f7c0e43",
   "metadata": {},
   "source": [
    "<span style=\"font-size:1.2em;font-weight:bold\">Weighting-MCDM SWARA (Stepwise Weight Assessment Ratio Analysis) METHOD</span>"
   ]
  },
  {
   "cell_type": "markdown",
   "id": "14e26133-17e0-4eb3-bb3f-83222e83b914",
   "metadata": {},
   "source": [
    "<span style=\"font-size:1em\">\n",
    "A person is looking to select a laptop from four options: Laptop A, Laptop B, Laptop C, and Laptop D. The decision criteria are:\n",
    "</br>\n",
    "1. Price</br>\n",
    "2. Performance</br>\n",
    "3. Battery Life</br>\n",
    "4. Weight</br>\n",
    "</br>\n",
    "Steps:</br>\n",
    "1-Normalizing the data..</br>\n",
    "2-Ranking the criteria based on importance..</br>\n",
    "3-Calculating the comparative importance coefficients..</br>\n",
    "4-Calculating the weights using SWARA method..</br>\n",
    "</span>"
   ]
  },
  {
   "cell_type": "code",
   "execution_count": 1,
   "id": "d3e4ea75-dc41-4b54-964b-047370d1a65b",
   "metadata": {},
   "outputs": [
    {
     "name": "stdin",
     "output_type": "stream",
     "text": [
      "Enter the comparative importance coefficient for criterion 2 (w.r.t. the previous criterion):  0.34\n",
      "Enter the comparative importance coefficient for criterion 3 (w.r.t. the previous criterion):  0.27\n",
      "Enter the comparative importance coefficient for criterion 4 (w.r.t. the previous criterion):  0.19\n"
     ]
    },
    {
     "name": "stdout",
     "output_type": "stream",
     "text": [
      "Normalized Data (Normalize Edilmiş Veriler):\n",
      " [[0.33333333 0.5        1.         0.33333333]\n",
      " [1.         1.         0.33333333 1.        ]\n",
      " [0.         0.         0.66666667 0.66666667]\n",
      " [0.66666667 0.5        0.         0.        ]]\n",
      "\n",
      "Comparative Importance Coefficients (Karşılaştırmalı Önem Katsayıları):\n",
      " [1.   0.34 0.27 0.19]\n",
      "\n",
      "\n",
      "Price (Fiyat) Ağırlığı: 0.3536\n",
      "Performance (Performans) Ağırlığı: 0.2639\n",
      "Battery Life (Batarya Ömrü) Ağırlığı: 0.2078\n",
      "Weight (Ağırlık) Ağırlığı: 0.1746\n"
     ]
    }
   ],
   "source": [
    "import numpy as np\n",
    "\n",
    "# Criteria data for each laptop\n",
    "data = np.array([\n",
    "    [1000, 8, 10, 1.5],  # Laptop A\n",
    "    [1200, 9, 8, 1.7],   # Laptop B\n",
    "    [900, 7, 9, 1.6],    # Laptop C\n",
    "    [1100, 8, 7, 1.4]    # Laptop D\n",
    "])\n",
    "\n",
    "# Adım 1: Verileri normalize etme / Step 1: Normalizing the data\n",
    "def normalize(data):\n",
    "    # Normalize the data (Min-Max normalization)\n",
    "    normalized_data = (data - data.min(axis=0)) / (data.max(axis=0) - data.min(axis=0))\n",
    "    return normalized_data\n",
    "\n",
    "normalized_data = normalize(data)\n",
    "\n",
    "# Adım 2: Kriterleri önem sırasına göre sıralama / Step 2: Ranking the criteria based on importance\n",
    "# Here, we assume a given ranking: Price > Performance > Battery Life > Weight\n",
    "rankings = [1, 2, 3, 4]\n",
    "\n",
    "# Adım 3: Karşılaştırmalı önem katsayılarını hesaplama / Step 3: Calculating the comparative importance coefficients\n",
    "def calculate_s(rankings):\n",
    "    # Given the importance sequence\n",
    "    s = [1.0]  # The first element's s is always 1\n",
    "    for i in range(1, len(rankings)):\n",
    "        s.append(float(input(f\"Enter the comparative importance coefficient for criterion {i+1} (w.r.t. the previous criterion): \")))\n",
    "    return np.array(s)\n",
    "\n",
    "s = calculate_s(rankings)\n",
    "\n",
    "# Adım 4: SWARA yöntemi ile ağırlıkları hesaplama / Step 4: Calculating the weights using SWARA method\n",
    "def calculate_weights_swara(s):\n",
    "    k = np.zeros(len(s))\n",
    "    q = np.zeros(len(s))\n",
    "    weights = np.zeros(len(s))\n",
    "    \n",
    "    k[0] = 1\n",
    "    for i in range(1, len(s)):\n",
    "        k[i] = s[i] + 1\n",
    "        \n",
    "    q[0] = 1\n",
    "    for i in range(1, len(s)):\n",
    "        q[i] = q[i-1] / k[i]\n",
    "        \n",
    "    weights = q / np.sum(q)\n",
    "    return weights\n",
    "\n",
    "weights = calculate_weights_swara(s)\n",
    "\n",
    "# Sonuçları yazdırma / Printing the results\n",
    "print(\"Normalized Data (Normalize Edilmiş Veriler):\\n\", normalized_data)\n",
    "print(\"\\nComparative Importance Coefficients (Karşılaştırmalı Önem Katsayıları):\\n\", s)\n",
    "print(\"\\n\")\n",
    "\n",
    "# Ağırlıkları belirli kriterlerle yazdırma / Printing the weights with specific criteria\n",
    "criteria = [\"Price (Fiyat)\", \"Performance (Performans)\", \"Battery Life (Batarya Ömrü)\", \"Weight (Ağırlık)\"]\n",
    "for i, weight in enumerate(weights):\n",
    "    print(f\"{criteria[i]} Ağırlığı: {weight:.4f}\")\n"
   ]
  }
 ],
 "metadata": {
  "kernelspec": {
   "display_name": "Python 3 (ipykernel)",
   "language": "python",
   "name": "python3"
  },
  "language_info": {
   "codemirror_mode": {
    "name": "ipython",
    "version": 3
   },
   "file_extension": ".py",
   "mimetype": "text/x-python",
   "name": "python",
   "nbconvert_exporter": "python",
   "pygments_lexer": "ipython3",
   "version": "3.9.0"
  }
 },
 "nbformat": 4,
 "nbformat_minor": 5
}
