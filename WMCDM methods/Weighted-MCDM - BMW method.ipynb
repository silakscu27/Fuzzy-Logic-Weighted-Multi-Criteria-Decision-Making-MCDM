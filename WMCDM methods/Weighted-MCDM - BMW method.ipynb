{
 "cells": [
  {
   "cell_type": "markdown",
   "id": "0883c7fb-3442-401f-85c0-b1f4ac8b9c5d",
   "metadata": {},
   "source": [
    "<span style=\"font-size:1.2em;font-weight:bold\">Weighting-MCDM BMW (Best-Worst Method) METHOD</span>"
   ]
  },
  {
   "cell_type": "markdown",
   "id": "8fc9654f-4feb-455a-a401-186afa6cc377",
   "metadata": {},
   "source": [
    "<span style=\"font-size:1em\">\n",
    "You want to purchase a car and have shortlisted four models: Car A, Car B, Car C, and Car D. The decision criteria are:</br>\n",
    "1. Cost</br>\n",
    "2. Fuel Efficiency</br>\n",
    "3. Comfort</br>\n",
    "4. Safety</br>\n",
    "</br>\n",
    "Steps:</br>\n",
    "1- Identify the best and worst criteria.</br>\n",
    "2- Compare the best criterion with other criteria.</br>\n",
    "3- Compare other criteria with the worst criterion.</br>\n",
    "4- Determine the optimal weights.</br>\n",
    "</span>"
   ]
  },
  {
   "cell_type": "code",
   "execution_count": 1,
   "id": "13bfa60f-1d30-4fc6-815b-8b915111695d",
   "metadata": {},
   "outputs": [
    {
     "name": "stdout",
     "output_type": "stream",
     "text": [
      "Weight of Safety: 0.5351\n",
      "Weight of Cost: 0.1338\n",
      "Weight of Comfort: 0.0669\n",
      "Weight of Fuel Efficiency: 0.2642\n"
     ]
    },
    {
     "name": "stderr",
     "output_type": "stream",
     "text": [
      "C:\\Users\\Sıla\\AppData\\Local\\Temp\\ipykernel_19288\\1759010955.py:17: RuntimeWarning: divide by zero encountered in scalar divide\n",
      "  max_diff_best = max([abs(weights[criteria.index('Safety')] / weights[criteria.index(c)] - best_to_others[c]) for c in best_to_others])\n",
      "C:\\Users\\Sıla\\AppData\\Local\\Temp\\ipykernel_19288\\1759010955.py:18: RuntimeWarning: divide by zero encountered in scalar divide\n",
      "  max_diff_worst = max([abs(weights[criteria.index(c)] / weights[criteria.index('Comfort')] - others_to_worst[c]) for c in others_to_worst])\n",
      "C:\\Users\\Sıla\\AppData\\Local\\Temp\\ipykernel_19288\\1759010955.py:18: RuntimeWarning: invalid value encountered in scalar divide\n",
      "  max_diff_worst = max([abs(weights[criteria.index(c)] / weights[criteria.index('Comfort')] - others_to_worst[c]) for c in others_to_worst])\n"
     ]
    }
   ],
   "source": [
    "import numpy as np\n",
    "from scipy.optimize import minimize\n",
    "\n",
    "# Pairwise comparison values\n",
    "best_to_others = {'Cost': 5, 'Fuel Efficiency': 3, 'Comfort': 7}\n",
    "others_to_worst = {'Cost': 3, 'Fuel Efficiency': 4, 'Safety': 7}\n",
    "\n",
    "criteria = list(best_to_others.keys()) + ['Safety']\n",
    "criteria = list(set(criteria))  # Ensure all criteria are listed only once\n",
    "\n",
    "def objective_function(weights):\n",
    "    # Normalized weights\n",
    "    weights = np.array(weights)\n",
    "    weights = weights / np.sum(weights)\n",
    "    \n",
    "    # Calculate consistency ratios\n",
    "    max_diff_best = max([abs(weights[criteria.index('Safety')] / weights[criteria.index(c)] - best_to_others[c]) for c in best_to_others])\n",
    "    max_diff_worst = max([abs(weights[criteria.index(c)] / weights[criteria.index('Comfort')] - others_to_worst[c]) for c in others_to_worst])\n",
    "    \n",
    "    return max(max_diff_best, max_diff_worst)\n",
    "\n",
    "# Initial weights guess\n",
    "initial_weights = np.ones(len(criteria))\n",
    "\n",
    "# Constraints: weights should sum to 1\n",
    "constraints = ({'type': 'eq', 'fun': lambda weights: np.sum(weights) - 1})\n",
    "\n",
    "# Bounds for each weight: between 0 and 1\n",
    "bounds = [(0, 1) for _ in range(len(criteria))]\n",
    "\n",
    "# Minimize the objective function\n",
    "result = minimize(objective_function, initial_weights, method='SLSQP', bounds=bounds, constraints=constraints)\n",
    "\n",
    "# Optimal weights\n",
    "optimal_weights = result.x / np.sum(result.x)\n",
    "\n",
    "# Print the results\n",
    "for crit, weight in zip(criteria, optimal_weights):\n",
    "    print(f\"Weight of {crit}: {weight:.4f}\")"
   ]
  },
  {
   "cell_type": "code",
   "execution_count": 2,
   "id": "215b983e-a0f6-4c7e-b176-bd3afd5de853",
   "metadata": {},
   "outputs": [
    {
     "name": "stdout",
     "output_type": "stream",
     "text": [
      "Güvenlik Ağırlığı: 0.5511\n",
      "Yakıt Verimliliği Ağırlığı: 0.2422\n",
      "Maliyet Ağırlığı: 0.1378\n",
      "Konfor Ağırlığı: 0.0689\n"
     ]
    },
    {
     "name": "stderr",
     "output_type": "stream",
     "text": [
      "C:\\Users\\Sıla\\AppData\\Local\\Temp\\ipykernel_19288\\910870068.py:17: RuntimeWarning: divide by zero encountered in scalar divide\n",
      "  max_fark_best = max([abs(agirliklar[kriterler.index('Güvenlik')] / agirliklar[kriterler.index(c)] - best_to_others[c]) for c in best_to_others])\n",
      "C:\\Users\\Sıla\\AppData\\Local\\Temp\\ipykernel_19288\\910870068.py:18: RuntimeWarning: divide by zero encountered in scalar divide\n",
      "  max_fark_worst = max([abs(agirliklar[kriterler.index(c)] / agirliklar[kriterler.index('Konfor')] - others_to_worst[c]) for c in others_to_worst])\n",
      "C:\\Users\\Sıla\\AppData\\Local\\Temp\\ipykernel_19288\\910870068.py:18: RuntimeWarning: invalid value encountered in scalar divide\n",
      "  max_fark_worst = max([abs(agirliklar[kriterler.index(c)] / agirliklar[kriterler.index('Konfor')] - others_to_worst[c]) for c in others_to_worst])\n"
     ]
    }
   ],
   "source": [
    "import numpy as np\n",
    "from scipy.optimize import minimize\n",
    "\n",
    "# Çift Taraflı Karşılaştırma Değerleri\n",
    "best_to_others = {'Maliyet': 5, 'Yakıt Verimliliği': 3, 'Konfor': 7}\n",
    "others_to_worst = {'Maliyet': 3, 'Yakıt Verimliliği': 4, 'Güvenlik': 7}\n",
    "\n",
    "kriterler = list(best_to_others.keys()) + ['Güvenlik']\n",
    "kriterler = list(set(kriterler))  # Tüm kriterlerin sadece bir kez listelendiğinden emin olun\n",
    "\n",
    "def hedef_fonksiyonu(agirliklar):\n",
    "    # Normalize edilmiş ağırlıklar\n",
    "    agirliklar = np.array(agirliklar)\n",
    "    agirliklar = agirliklar / np.sum(agirliklar)\n",
    "    \n",
    "    # Tutarlılık oranlarını hesapla\n",
    "    max_fark_best = max([abs(agirliklar[kriterler.index('Güvenlik')] / agirliklar[kriterler.index(c)] - best_to_others[c]) for c in best_to_others])\n",
    "    max_fark_worst = max([abs(agirliklar[kriterler.index(c)] / agirliklar[kriterler.index('Konfor')] - others_to_worst[c]) for c in others_to_worst])\n",
    "    \n",
    "    return max(max_fark_best, max_fark_worst)\n",
    "\n",
    "# Başlangıç ağırlıkları tahmini\n",
    "baslangic_agirliklari = np.ones(len(kriterler))\n",
    "\n",
    "# Kısıtlar: ağırlıkların toplamı 1 olmalı\n",
    "kisitlar = ({'type': 'eq', 'fun': lambda agirliklar: np.sum(agirliklar) - 1})\n",
    "\n",
    "# Her ağırlık için sınırlar: 0 ile 1 arasında\n",
    "sinirlar = [(0, 1) for _ in range(len(kriterler))]\n",
    "\n",
    "# Hedef fonksiyonu minimize et\n",
    "sonuc = minimize(hedef_fonksiyonu, baslangic_agirliklari, method='SLSQP', bounds=sinirlar, constraints=kisitlar)\n",
    "\n",
    "# Optimum ağırlıklar\n",
    "optimum_agirliklar = sonuc.x / np.sum(sonuc.x)\n",
    "\n",
    "# Sonuçları yazdır\n",
    "for krit, agirlik in zip(kriterler, optimum_agirliklar):\n",
    "    print(f\"{krit} Ağırlığı: {agirlik:.4f}\")"
   ]
  },
  {
   "cell_type": "code",
   "execution_count": null,
   "id": "b85e2a06-e514-49f3-968a-5fdd3e4b3345",
   "metadata": {},
   "outputs": [],
   "source": []
  }
 ],
 "metadata": {
  "kernelspec": {
   "display_name": "Python 3 (ipykernel)",
   "language": "python",
   "name": "python3"
  },
  "language_info": {
   "codemirror_mode": {
    "name": "ipython",
    "version": 3
   },
   "file_extension": ".py",
   "mimetype": "text/x-python",
   "name": "python",
   "nbconvert_exporter": "python",
   "pygments_lexer": "ipython3",
   "version": "3.9.0"
  }
 },
 "nbformat": 4,
 "nbformat_minor": 5
}
