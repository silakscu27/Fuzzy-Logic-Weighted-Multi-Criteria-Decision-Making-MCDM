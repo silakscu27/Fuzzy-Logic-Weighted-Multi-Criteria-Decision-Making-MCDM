{
 "cells": [
  {
   "cell_type": "markdown",
   "id": "0c603bf7-3701-49e1-9cfe-2e7fab6f2a63",
   "metadata": {},
   "source": [
    "<span style=\"font-size:1.2em;font-weight:bold\">Weighting-MCDM LOPCOW (Logarithmic Percentage Change-Driven Objective Weighting) METHOD</span>"
   ]
  },
  {
   "cell_type": "markdown",
   "id": "fcd80810-9e0b-4031-9616-ac477bcd4cc2",
   "metadata": {},
   "source": [
    "<span style=\"font-size:1em\">\n",
    "A company is looking to select a new software development project from four options: Project A, Project B, Project C, and Project D. The decision criteria are:\n",
    "</br>\n",
    "1. Budget</br>\n",
    "2. Duration</br>\n",
    "3. Team Experience</br>\n",
    "4. Risk Level</br>\n",
    "</br>\n",
    "Steps:</br>\n",
    "1-Normalizing the data..</br>\n",
    "2-Calculating the logarithmic percentage changes..</br>\n",
    "3-Calculating the weights using LOPCOW..</br>\n",
    "</span>"
   ]
  },
  {
   "cell_type": "code",
   "execution_count": 1,
   "id": "257a23b8-83a7-4d74-bc2f-1eab87783cdd",
   "metadata": {},
   "outputs": [
    {
     "name": "stdout",
     "output_type": "stream",
     "text": [
      "Normalized Data (Normalize Edilmiş Veriler):\n",
      " [[0.5        0.5        0.33333333 0.5       ]\n",
      " [0.         0.16666667 1.         0.        ]\n",
      " [1.         1.         0.66666667 1.        ]\n",
      " [0.3        0.         0.         0.5       ]]\n",
      "\n",
      "Logarithmic Percentage Changes (Logaritmik Yüzde Değişimleri):\n",
      " [[ 0.03390155  0.05715841 -0.11778304  0.        ]\n",
      " [-0.37156356 -0.19415601  0.28768207 -0.40546511]\n",
      " [ 0.32158362  0.34484049  0.10536052  0.28768207]\n",
      " [-0.10919929 -0.34830669 -0.40546511  0.        ]]\n",
      "\n",
      "Weights (Ağırlıklar):\n",
      " [0.25420611 0.24212348 0.2458747  0.25779572]\n"
     ]
    }
   ],
   "source": [
    "import numpy as np\n",
    "\n",
    "# Criteria data for each project\n",
    "data = np.array([\n",
    "    [200000, 12, 5, 3],  # Project A\n",
    "    [150000, 10, 7, 2],  # Project B\n",
    "    [250000, 15, 6, 4],  # Project C\n",
    "    [180000, 9, 4, 3]    # Project D\n",
    "])\n",
    "\n",
    "# Adım 1: Verileri normalize etme / Step 1: Normalizing the data\n",
    "def normalize(data):\n",
    "    # Normalize the data (Min-Max normalization)\n",
    "    normalized_data = (data - data.min(axis=0)) / (data.max(axis=0) - data.min(axis=0))\n",
    "    return normalized_data\n",
    "\n",
    "normalized_data = normalize(data)\n",
    "\n",
    "# Adım 2: Logaritmik yüzde değişimlerini hesaplama / Step 2: Calculating the logarithmic percentage changes\n",
    "def log_percentage_change(normalized_data):\n",
    "    log_change = np.log1p(normalized_data) - np.log1p(np.mean(normalized_data, axis=0))\n",
    "    return log_change\n",
    "\n",
    "log_change = log_percentage_change(normalized_data)\n",
    "\n",
    "# Adım 3: LOPCOW yöntemi ile ağırlıkları hesaplama / Step 3: Calculating the weights using LOPCOW\n",
    "def calculate_weights(log_change):\n",
    "    # Calculating the standard deviation for each criterion\n",
    "    std_dev = np.std(log_change, axis=0)\n",
    "    # Weights are inversely proportional to the standard deviation\n",
    "    weights = 1 / std_dev\n",
    "    # Normalizing the weights\n",
    "    weights /= weights.sum()\n",
    "    return weights\n",
    "\n",
    "weights = calculate_weights(log_change)\n",
    "\n",
    "# Sonuçları yazdırma / Printing the results\n",
    "print(\"Normalized Data (Normalize Edilmiş Veriler):\\n\", normalized_data)\n",
    "print(\"\\nLogarithmic Percentage Changes (Logaritmik Yüzde Değişimleri):\\n\", log_change)\n",
    "print(\"\\nWeights (Ağırlıklar):\\n\", weights)\n"
   ]
  },
  {
   "cell_type": "code",
   "execution_count": null,
   "id": "325409a4-39b4-4ad0-b516-08b00b71e6e1",
   "metadata": {},
   "outputs": [],
   "source": []
  }
 ],
 "metadata": {
  "kernelspec": {
   "display_name": "Python 3 (ipykernel)",
   "language": "python",
   "name": "python3"
  },
  "language_info": {
   "codemirror_mode": {
    "name": "ipython",
    "version": 3
   },
   "file_extension": ".py",
   "mimetype": "text/x-python",
   "name": "python",
   "nbconvert_exporter": "python",
   "pygments_lexer": "ipython3",
   "version": "3.9.0"
  }
 },
 "nbformat": 4,
 "nbformat_minor": 5
}
