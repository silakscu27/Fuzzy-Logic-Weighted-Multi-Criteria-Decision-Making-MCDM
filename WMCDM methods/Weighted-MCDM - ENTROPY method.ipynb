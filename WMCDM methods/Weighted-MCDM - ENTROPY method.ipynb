{
 "cells": [
  {
   "cell_type": "markdown",
   "id": "4e78bebd-bffb-4034-8ce5-456796f0e09f",
   "metadata": {},
   "source": [
    "<span style=\"font-size:1.2em;font-weight:bold\">Weighting-MCDM ENTROPY METHOD</span>"
   ]
  },
  {
   "cell_type": "markdown",
   "id": "a18bda1d-81bd-4a52-bec1-2c1aac983d74",
   "metadata": {},
   "source": [
    "<span style=\"font-size:1em\">\n",
    "A university is looking to appoint a new faculty member and has identified four candidates: Candidate A, Candidate B, Candidate C, and Candidate D. The decision criteria are:\n",
    "</br>\n",
    "1.Number of Academic Publication</br>\n",
    "2.Student Evaluation<br>\n",
    "3.Research Project<br>\n",
    "4.Teaching Experience</br>\n",
    "</br>\n",
    "Steps:</br>\n",
    "1-Normalizing the data..</br>\n",
    "2-Calculating the entropies of the criteria..</br>\n",
    "3-Calculating the weights..</br>\n",
    "</span>"
   ]
  },
  {
   "cell_type": "code",
   "execution_count": 3,
   "id": "f7e3fb7b-d02f-430a-b7a3-792c70b80072",
   "metadata": {},
   "outputs": [
    {
     "name": "stdout",
     "output_type": "stream",
     "text": [
      "Number of Academic Publications Weight: 0.2113\n",
      "Student Evaluations Weight: 0.3316\n",
      "Research Projects Weight: 0.1906\n",
      "Teaching Experience Weight: 0.2665\n"
     ]
    }
   ],
   "source": [
    "import numpy as np\n",
    "import pandas as pd\n",
    "\n",
    "# Effects of the criteria (example data)\n",
    "data = {\n",
    "    'Number of Academic Publications': [30, 45, 25, 40],  \n",
    "    'Student Evaluations': [4.2, 3.8, 4.5, 4.0],  \n",
    "    'Research Projects': [5, 3, 4, 6],  \n",
    "    'Teaching Experience': [10, 8, 7, 9]  \n",
    "}\n",
    "\n",
    "# Convert data to DataFrame\n",
    "df = pd.DataFrame(data)\n",
    "\n",
    "# Normalize the effects\n",
    "def normalize(df):\n",
    "    return df / df.max()\n",
    "\n",
    "normalized_df = normalize(df)\n",
    "\n",
    "# Calculate entropy\n",
    "def calculate_entropy(df):\n",
    "    # Calculate entropy based on normalized data\n",
    "    E = -df * np.log(df + 1e-9)\n",
    "    entropy = E.sum(axis=0) / np.log(len(df))\n",
    "    return entropy\n",
    "\n",
    "entropy = calculate_entropy(normalized_df)\n",
    "\n",
    "# Calculate weights (1 - entropy)\n",
    "weights = (1 - entropy) / (1 - entropy).sum()\n",
    "\n",
    "# Print the results\n",
    "for crit, weight in weights.items():\n",
    "    print(f\"{crit} Weight: {weight:.4f}\")\n"
   ]
  },
  {
   "cell_type": "code",
   "execution_count": 2,
   "id": "8da227b1-b5aa-416d-b06f-dec933295dd6",
   "metadata": {},
   "outputs": [
    {
     "name": "stdout",
     "output_type": "stream",
     "text": [
      "Akademik Yayın Sayısı Ağırlığı: 0.2113\n",
      "Öğrenci Değerlendirmeleri Ağırlığı: 0.3316\n",
      "Araştırma Projeleri Ağırlığı: 0.1906\n",
      "Öğretim Deneyimi Ağırlığı: 0.2665\n"
     ]
    }
   ],
   "source": [
    "import numpy as np\n",
    "import pandas as pd\n",
    "\n",
    "# Kriterlerin etkileri (örnek veriler)\n",
    "data = {\n",
    "    'Akademik Yayın Sayısı': [30, 45, 25, 40],  \n",
    "    'Öğrenci Değerlendirmeleri': [4.2, 3.8, 4.5, 4.0], \n",
    "    'Araştırma Projeleri': [5, 3, 4, 6], \n",
    "    'Öğretim Deneyimi': [10, 8, 7, 9]  \n",
    "}\n",
    "\n",
    "# Verileri DataFrame'e dönüştür\n",
    "df = pd.DataFrame(data)\n",
    "\n",
    "# Etkileri normalize et\n",
    "def normalize(df):\n",
    "    return df / df.max()\n",
    "\n",
    "normalized_df = normalize(df)\n",
    "\n",
    "# Entropi hesapla\n",
    "def calculate_entropy(df):\n",
    "    # Normalize edilmiş veriler üzerinden entropi hesapla\n",
    "    E = -df * np.log(df + 1e-9)\n",
    "    entropy = E.sum(axis=0) / np.log(len(df))\n",
    "    return entropy\n",
    "\n",
    "entropy = calculate_entropy(normalized_df)\n",
    "\n",
    "# Kriterlerin ağırlıkları hesapla (1 - entropi)\n",
    "weights = (1 - entropy) / (1 - entropy).sum()\n",
    "\n",
    "# Sonuçları yazdır\n",
    "for krit, agirlik in weights.items():\n",
    "    print(f\"{krit} Ağırlığı: {agirlik:.4f}\")"
   ]
  },
  {
   "cell_type": "code",
   "execution_count": null,
   "id": "a68a067e-7cbf-4de0-8e23-08acc604fb4f",
   "metadata": {},
   "outputs": [],
   "source": []
  }
 ],
 "metadata": {
  "kernelspec": {
   "display_name": "Python 3 (ipykernel)",
   "language": "python",
   "name": "python3"
  },
  "language_info": {
   "codemirror_mode": {
    "name": "ipython",
    "version": 3
   },
   "file_extension": ".py",
   "mimetype": "text/x-python",
   "name": "python",
   "nbconvert_exporter": "python",
   "pygments_lexer": "ipython3",
   "version": "3.9.0"
  }
 },
 "nbformat": 4,
 "nbformat_minor": 5
}
