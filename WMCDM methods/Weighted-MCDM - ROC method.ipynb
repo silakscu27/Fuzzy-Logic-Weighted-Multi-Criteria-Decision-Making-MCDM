{
 "cells": [
  {
   "cell_type": "markdown",
   "id": "e2767e4c-6b86-434c-92a7-9393498865d7",
   "metadata": {},
   "source": [
    "<span style=\"font-size:1.2em;font-weight:bold\">Weighting-MCDM ROC (Rank Order Centroid) METHOD</span>"
   ]
  },
  {
   "cell_type": "markdown",
   "id": "1a268910-6c37-42ec-916e-5c24fc5f73fd",
   "metadata": {},
   "source": [
    "<span style=\"font-size:1em\">\n",
    "A person is looking to buy a new car and has identified four options: Car A, Car B, Car C, and Car D. The decision criteria are:\n",
    "</br>\n",
    "1. Price</br>\n",
    "2. Fuel Efficiency</br>\n",
    "3. Safety Rating</br>\n",
    "4. Comfort</br>\n",
    "</br>\n",
    "Steps:</br>\n",
    "1-Normalizing the data..</br>\n",
    "2-Ranking the criteria based on importance..</br>\n",
    "3-Calculating the centroid weights for each rank..</br>\n",
    "4-Calculating the final weights using ROC method..</br>\n",
    "</span>"
   ]
  },
  {
   "cell_type": "code",
   "execution_count": 2,
   "id": "d9275287-38d5-4ed4-8489-93553470ba21",
   "metadata": {},
   "outputs": [
    {
     "name": "stdout",
     "output_type": "stream",
     "text": [
      "Normalized Data (Normalize Edilmiş Veriler):\n",
      " [[0.  0.5 1.  0.5]\n",
      " [1.  0.  0.  0. ]\n",
      " [0.4 1.  1.  1. ]\n",
      " [0.8 0.3 0.  0.5]]\n",
      "\n",
      "Ranked Weights (Sıralanmış Ağırlıklar):\n",
      " [0.52083333 0.27083333 0.14583333 0.0625    ]\n",
      "\n",
      "\n",
      "Price (Fiyat) Ağırlığı: 0.5208\n",
      "Fuel Efficiency (Yakıt Verimliliği) Ağırlığı: 0.2708\n",
      "Safety Rating (Güvenlik Derecesi) Ağırlığı: 0.1458\n",
      "Comfort (Konfor) Ağırlığı: 0.0625\n"
     ]
    }
   ],
   "source": [
    "import numpy as np\n",
    "\n",
    "# Criteria data for each car\n",
    "data = np.array([\n",
    "    [20000, 30, 5, 8],  # Car A\n",
    "    [25000, 25, 4, 7],  # Car B\n",
    "    [22000, 35, 5, 9],  # Car C\n",
    "    [24000, 28, 4, 8]   # Car D\n",
    "])\n",
    "\n",
    "# Adım 1: Verileri normalize etme / Step 1: Normalizing the data\n",
    "def normalize(data):\n",
    "    # Normalize the data (Min-Max normalization)\n",
    "    normalized_data = (data - data.min(axis=0)) / (data.max(axis=0) - data.min(axis=0))\n",
    "    return normalized_data\n",
    "\n",
    "normalized_data = normalize(data)\n",
    "\n",
    "# Adım 2: Kriterleri önem sırasına göre sıralama / Step 2: Ranking the criteria based on importance\n",
    "# Here, we assume a given ranking: Price > Fuel Efficiency > Safety Rating > Comfort\n",
    "rankings = [1, 2, 3, 4]\n",
    "\n",
    "# Adım 3: Her sıra için centroid ağırlıklarını hesaplama / Step 3: Calculating the centroid weights for each rank\n",
    "def centroid_weights(rankings):\n",
    "    n = len(rankings)\n",
    "    weights = np.zeros(n)\n",
    "    for i in range(n):\n",
    "        weights[i] = sum(1 / (j + 1) for j in range(i, n)) / n\n",
    "    return weights\n",
    "\n",
    "weights = centroid_weights(rankings)\n",
    "\n",
    "# Adım 4: ROC yöntemi ile nihai ağırlıkları hesaplama / Step 4: Calculating the final weights using ROC method\n",
    "def final_weights(weights, rankings):\n",
    "    ranked_weights = np.zeros_like(weights)\n",
    "    for rank, weight in zip(rankings, weights):\n",
    "        ranked_weights[rank - 1] = weight\n",
    "    return ranked_weights\n",
    "\n",
    "final_weights = final_weights(weights, rankings)\n",
    "\n",
    "# Sonuçları yazdırma / Printing the results\n",
    "print(\"Normalized Data (Normalize Edilmiş Veriler):\\n\", normalized_data)\n",
    "print(\"\\nRanked Weights (Sıralanmış Ağırlıklar):\\n\", weights)\n",
    "print(\"\\n\")\n",
    "\n",
    "# Ağırlıkları belirli kriterlerle yazdırma / Printing the weights with specific criteria\n",
    "criteria = [\"Price (Fiyat)\", \"Fuel Efficiency (Yakıt Verimliliği)\", \"Safety Rating (Güvenlik Derecesi)\", \"Comfort (Konfor)\"]\n",
    "for i, weight in enumerate(final_weights):\n",
    "    print(f\"{criteria[i]} Ağırlığı: {weight:.4f}\")\n"
   ]
  }
 ],
 "metadata": {
  "kernelspec": {
   "display_name": "Python 3 (ipykernel)",
   "language": "python",
   "name": "python3"
  },
  "language_info": {
   "codemirror_mode": {
    "name": "ipython",
    "version": 3
   },
   "file_extension": ".py",
   "mimetype": "text/x-python",
   "name": "python",
   "nbconvert_exporter": "python",
   "pygments_lexer": "ipython3",
   "version": "3.9.0"
  }
 },
 "nbformat": 4,
 "nbformat_minor": 5
}
