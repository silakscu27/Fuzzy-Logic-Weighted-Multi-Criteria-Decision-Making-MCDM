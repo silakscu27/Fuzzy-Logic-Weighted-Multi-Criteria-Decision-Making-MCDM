{
 "cells": [
  {
   "cell_type": "markdown",
   "id": "08714f95-7c03-4be9-8a53-89b000e2d41d",
   "metadata": {},
   "source": [
    "<span style=\"font-size:1.2em;font-weight:bold\">Weighting-MCDM SV (Statistical Variance) METHOD</span>"
   ]
  },
  {
   "cell_type": "markdown",
   "id": "184f00f2-d455-4cfe-a163-07aa166c1eae",
   "metadata": {},
   "source": [
    "<span style=\"font-size:1em\">\n",
    "A person is looking to choose a smartphone from four options: Smartphone A, Smartphone B, Smartphone C, and Smartphone D. The decision criteria are:\n",
    "</br>\n",
    "1. Price</br>\n",
    "2. Battery Life</br>\n",
    "3. Camera Quality</br>\n",
    "4. Storage Capacity</br>\n",
    "</br>\n",
    "Steps:</br>\n",
    "1-Normalizing the data..</br>\n",
    "2-Calculating the variance for each criterion..</br>\n",
    "3-Calculating the final weights using SV method..</br>\n",
    "</span>"
   ]
  },
  {
   "cell_type": "code",
   "execution_count": 2,
   "id": "48f57879-f04d-4c8b-b1a4-5ce0fec3b74a",
   "metadata": {},
   "outputs": [
    {
     "name": "stdout",
     "output_type": "stream",
     "text": [
      "Normalized Data (Normalize Edilmiş Veriler):\n",
      " [[0.33333333 0.         0.5        0.        ]\n",
      " [1.         1.         0.         1.        ]\n",
      " [0.         0.5        1.         0.        ]\n",
      " [0.66666667 0.         0.5        1.        ]]\n",
      "\n",
      "Variances (Varyanslar):\n",
      " [0.13888889 0.171875   0.125      0.25      ]\n",
      "\n",
      "\n",
      "Price (Fiyat) Ağırlığı: 0.2025\n",
      "Battery Life (Batarya Ömrü) Ağırlığı: 0.2506\n",
      "Camera Quality (Kamera Kalitesi) Ağırlığı: 0.1823\n",
      "Storage Capacity (Depolama Kapasitesi) Ağırlığı: 0.3646\n"
     ]
    }
   ],
   "source": [
    "import numpy as np\n",
    "\n",
    "# Criteria data for each smartphone\n",
    "data = np.array([\n",
    "    [700, 10, 8, 128],  # Smartphone A\n",
    "    [800, 12, 7, 256],  # Smartphone B\n",
    "    [650, 11, 9, 128],  # Smartphone C\n",
    "    [750, 10, 8, 256]   # Smartphone D\n",
    "])\n",
    "\n",
    "# Adım 1: Verileri normalize etme / Step 1: Normalizing the data\n",
    "def normalize(data):\n",
    "    # Normalize the data (Min-Max normalization)\n",
    "    normalized_data = (data - data.min(axis=0)) / (data.max(axis=0) - data.min(axis=0))\n",
    "    return normalized_data\n",
    "\n",
    "normalized_data = normalize(data)\n",
    "\n",
    "# Adım 2: Her kriter için varyansı hesaplama / Step 2: Calculating the variance for each criterion\n",
    "def calculate_variance(normalized_data):\n",
    "    # Calculate the variance for each criterion\n",
    "    variances = np.var(normalized_data, axis=0)\n",
    "    return variances\n",
    "\n",
    "variances = calculate_variance(normalized_data)\n",
    "\n",
    "# Adım 3: SV yöntemi ile nihai ağırlıkları hesaplama / Step 3: Calculating the final weights using SV method\n",
    "def calculate_weights(variances):\n",
    "    # Normalize the variances to get the weights\n",
    "    weights = variances / variances.sum()\n",
    "    return weights\n",
    "\n",
    "weights = calculate_weights(variances)\n",
    "\n",
    "# Sonuçları yazdırma / Printing the results\n",
    "print(\"Normalized Data (Normalize Edilmiş Veriler):\\n\", normalized_data)\n",
    "print(\"\\nVariances (Varyanslar):\\n\", variances)\n",
    "print(\"\\n\")\n",
    "\n",
    "# Ağırlıkları belirli kriterlerle yazdırma / Printing the weights with specific criteria\n",
    "criteria = [\"Price (Fiyat)\", \"Battery Life (Batarya Ömrü)\", \"Camera Quality (Kamera Kalitesi)\", \"Storage Capacity (Depolama Kapasitesi)\"]\n",
    "for i, weight in enumerate(weights):\n",
    "    print(f\"{criteria[i]} Ağırlığı: {weight:.4f}\")\n"
   ]
  }
 ],
 "metadata": {
  "kernelspec": {
   "display_name": "Python 3 (ipykernel)",
   "language": "python",
   "name": "python3"
  },
  "language_info": {
   "codemirror_mode": {
    "name": "ipython",
    "version": 3
   },
   "file_extension": ".py",
   "mimetype": "text/x-python",
   "name": "python",
   "nbconvert_exporter": "python",
   "pygments_lexer": "ipython3",
   "version": "3.9.0"
  }
 },
 "nbformat": 4,
 "nbformat_minor": 5
}
