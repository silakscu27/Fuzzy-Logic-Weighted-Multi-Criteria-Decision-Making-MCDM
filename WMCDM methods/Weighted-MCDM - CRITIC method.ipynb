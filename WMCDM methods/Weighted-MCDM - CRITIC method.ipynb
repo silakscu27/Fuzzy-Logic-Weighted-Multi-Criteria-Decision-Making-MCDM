{
 "cells": [
  {
   "cell_type": "markdown",
   "id": "3c22133a-2f4a-471c-9bb1-5801677bc0df",
   "metadata": {},
   "source": [
    "<span style=\"font-size:1.2em;font-weight:bold\">Weighting-MCDM CRITIC (Criteria Importance Through Inter-criteria Correlation) METHOD</span>"
   ]
  },
  {
   "cell_type": "markdown",
   "id": "4843b99c-b099-43e8-a037-bac2d591a7da",
   "metadata": {},
   "source": [
    "<span style=\"font-size:1em\">\n",
    "A technology company wants to develop a new product and has identified four candidate strategies: Strategy A, Strategy B, Strategy C, and Strategy D. The decision criteria are:</br>\n",
    "1. Development Cost</br>\n",
    "2. Market Potential</br>\n",
    "3. Technological Innovation</br>\n",
    "4. Risk</br>\n",
    "</br>\n",
    "Steps:</br>\n",
    "1- Normalizing the data.</br>\n",
    "2- Calculating the variances of the criteria.</br>\n",
    "3- Calculating the correlations between the criteria.</br>\n",
    "4- Calculating the weights.</span>\n",
    "</span>"
   ]
  },
  {
   "cell_type": "code",
   "execution_count": 4,
   "id": "5bee435d-fb6a-4241-b7ef-08f94e1e8997",
   "metadata": {},
   "outputs": [
    {
     "name": "stdout",
     "output_type": "stream",
     "text": [
      "Development Cost Weight: 0.1885\n",
      "Market Potential Weight: 0.1836\n",
      "Technological Innovation Weight: 0.3083\n",
      "Risk Weight: 0.3196\n"
     ]
    }
   ],
   "source": [
    "import numpy as np\n",
    "import pandas as pd\n",
    "\n",
    "# Effects of the criteria (example data)\n",
    "data = {\n",
    "    'Development Cost': [500000, 700000, 600000, 550000],  \n",
    "    'Market Potential': [8, 6, 7, 9],  \n",
    "    'Technological Innovation': [5, 7, 6, 8],  \n",
    "    'Risk': [3, 4, 2, 5] \n",
    "}\n",
    "\n",
    "# Convert data to DataFrame\n",
    "df = pd.DataFrame(data)\n",
    "\n",
    "# Normalize the effects\n",
    "def normalize(df):\n",
    "    result = df.copy()\n",
    "    for column in df.columns:\n",
    "        if column in ['Development Cost', 'Risk']:  \n",
    "            result[column] = (df[column].max() - df[column]) / (df[column].max() - df[column].min())\n",
    "        else:  # Higher values are better\n",
    "            result[column] = (df[column] - df[column].min()) / (df[column].max() - df[column].min())\n",
    "    return result\n",
    "\n",
    "normalized_df = normalize(df)\n",
    "\n",
    "# Calculate variances of the criteria\n",
    "variances = normalized_df.var()\n",
    "\n",
    "# Calculate the correlation matrix between criteria\n",
    "correlation_matrix = normalized_df.corr()\n",
    "\n",
    "# Make the correlation matrix negative (lower correlation means higher difference)\n",
    "negative_correlation_matrix = 1 - correlation_matrix\n",
    "\n",
    "# Calculate CRITIC weights\n",
    "weights = variances * negative_correlation_matrix.sum()\n",
    "weights = weights / weights.sum()\n",
    "\n",
    "# Print the results\n",
    "for crit, weight in weights.items():\n",
    "    print(f\"{crit} Weight: {weight:.4f}\")\n"
   ]
  },
  {
   "cell_type": "code",
   "execution_count": 3,
   "id": "2b78085f-f946-46d9-b479-87ce73f5fd9d",
   "metadata": {},
   "outputs": [
    {
     "name": "stdout",
     "output_type": "stream",
     "text": [
      "Geliştirme Maliyeti Ağırlığı: 0.1885\n",
      "Pazar Potansiyeli Ağırlığı: 0.1836\n",
      "Teknolojik Yenilik Ağırlığı: 0.3083\n",
      "Risk Ağırlığı: 0.3196\n"
     ]
    }
   ],
   "source": [
    "import numpy as np\n",
    "import pandas as pd\n",
    "\n",
    "# Kriterlerin etkileri (örnek veriler)\n",
    "data = {\n",
    "    'Geliştirme Maliyeti': [500000, 700000, 600000, 550000], \n",
    "    'Pazar Potansiyeli': [8, 6, 7, 9],                      \n",
    "    'Teknolojik Yenilik': [5, 7, 6, 8],                      \n",
    "    'Risk': [3, 4, 2, 5]                                      \n",
    "}\n",
    "\n",
    "# Verileri DataFrame'e dönüştür\n",
    "df = pd.DataFrame(data)\n",
    "\n",
    "# Etkileri normalize et\n",
    "def normalize(df):\n",
    "    result = df.copy()\n",
    "    for column in df.columns:\n",
    "        if column in ['Geliştirme Maliyeti', 'Risk']: \n",
    "            result[column] = (df[column].max() - df[column]) / (df[column].max() - df[column].min())\n",
    "        else:  \n",
    "            result[column] = (df[column] - df[column].min()) / (df[column].max() - df[column].min())\n",
    "    return result\n",
    "\n",
    "normalized_df = normalize(df)\n",
    "\n",
    "# Kriterlerin varyanslarını hesapla\n",
    "variances = normalized_df.var()\n",
    "\n",
    "# Kriterler arası korelasyon matrisini hesapla\n",
    "correlation_matrix = normalized_df.corr()\n",
    "\n",
    "# Korelasyon matrisini negatif yap (Korelasyon azaldıkça farklılık artar)\n",
    "negative_correlation_matrix = 1 - correlation_matrix\n",
    "\n",
    "# CRITIC ağırlıklarını hesapla\n",
    "weights = variances * negative_correlation_matrix.sum()\n",
    "weights = weights / weights.sum()\n",
    "\n",
    "# Sonuçları yazdır\n",
    "for krit, agirlik in weights.items():\n",
    "    print(f\"{krit} Ağırlığı: {agirlik:.4f}\")"
   ]
  },
  {
   "cell_type": "code",
   "execution_count": null,
   "id": "18fb255e-5a7d-41c3-99bc-c0511643bc63",
   "metadata": {},
   "outputs": [],
   "source": []
  }
 ],
 "metadata": {
  "kernelspec": {
   "display_name": "Python 3 (ipykernel)",
   "language": "python",
   "name": "python3"
  },
  "language_info": {
   "codemirror_mode": {
    "name": "ipython",
    "version": 3
   },
   "file_extension": ".py",
   "mimetype": "text/x-python",
   "name": "python",
   "nbconvert_exporter": "python",
   "pygments_lexer": "ipython3",
   "version": "3.9.0"
  }
 },
 "nbformat": 4,
 "nbformat_minor": 5
}
