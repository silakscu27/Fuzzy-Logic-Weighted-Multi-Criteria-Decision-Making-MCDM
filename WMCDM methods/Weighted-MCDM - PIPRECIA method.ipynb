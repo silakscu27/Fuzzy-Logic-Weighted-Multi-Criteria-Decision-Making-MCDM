{
 "cells": [
  {
   "cell_type": "markdown",
   "id": "ae2133aa-780a-46f4-abd1-1e61d502a2aa",
   "metadata": {},
   "source": [
    "<span style=\"font-size:1.2em;font-weight:bold\">Weighting-MCDM PIPRECIA (Pivot Pairwise Relative Criteria Importance Assessment) METHOD</span>"
   ]
  },
  {
   "cell_type": "markdown",
   "id": "2eab642b-78d7-4e71-b82f-3473c7d52b50",
   "metadata": {},
   "source": [
    "<span style=\"font-size:1em\">\n",
    "A university is looking to select a new faculty member from four candidates: Candidate A, Candidate B, Candidate C, and Candidate D. The decision criteria are:\n",
    "</br>\n",
    "1. Number of Publications</br>\n",
    "2. Student Evaluations</br>\n",
    "3. Research Projects</br>\n",
    "4. Teaching Experience</br>\n",
    "</br>\n",
    "Steps:</br>\n",
    "1-Normalizing the data..</br>\n",
    "2-Assessing pairwise relative importance of criteria..</br>\n",
    "3-Calculating the weights using PIPRECIA method..</br>\n",
    "</span>"
   ]
  },
  {
   "cell_type": "code",
   "execution_count": 1,
   "id": "f0f4ae46-0d74-49ae-a568-d934e958762a",
   "metadata": {},
   "outputs": [
    {
     "name": "stdout",
     "output_type": "stream",
     "text": [
      "Normalized Data (Normalize Edilmiş Veriler):\n",
      " [[0.33333333 0.5        0.33333333 0.5       ]\n",
      " [0.         1.         0.         1.        ]\n",
      " [1.         0.         1.         0.        ]\n",
      " [0.66666667 0.75       0.66666667 0.25      ]]\n",
      "\n",
      "\n",
      "Number of Publications (Akademik Yayın Sayısı) Ağırlığı: 0.1659\n",
      "Student Evaluations (Öğrenci Değerlendirmeleri) Ağırlığı: 0.3257\n",
      "Research Projects (Araştırma Projeleri) Ağırlığı: 0.2710\n",
      "Teaching Experience (Öğretim Deneyimi) Ağırlığı: 0.2375\n"
     ]
    }
   ],
   "source": [
    "import numpy as np\n",
    "\n",
    "# Criteria data for each candidate\n",
    "data = np.array([\n",
    "    [30, 4.5, 3, 10],  # Candidate A\n",
    "    [25, 4.7, 2, 12],  # Candidate B\n",
    "    [40, 4.3, 5, 8],   # Candidate C\n",
    "    [35, 4.6, 4, 9]    # Candidate D\n",
    "])\n",
    "\n",
    "# Adım 1: Verileri normalize etme / Step 1: Normalizing the data\n",
    "def normalize(data):\n",
    "    # Normalize the data (Min-Max normalization)\n",
    "    normalized_data = (data - data.min(axis=0)) / (data.max(axis=0) - data.min(axis=0))\n",
    "    return normalized_data\n",
    "\n",
    "normalized_data = normalize(data)\n",
    "\n",
    "# Adım 2: Kriterlerin göreli önemini çift karşılaştırma ile değerlendirme / Step 2: Assessing pairwise relative importance of criteria\n",
    "def pairwise_importance():\n",
    "    # This is a hypothetical pairwise comparison matrix for simplicity\n",
    "    comparison_matrix = np.array([\n",
    "        [1, 0.5, 0.6, 0.7],  # Number of Publications\n",
    "        [2, 1, 1.2, 1.3],    # Student Evaluations\n",
    "        [1.7, 0.8, 1, 1.1],  # Research Projects\n",
    "        [1.4, 0.7, 0.9, 1]   # Teaching Experience\n",
    "    ])\n",
    "    # Calculate the geometric mean of each criterion\n",
    "    geom_mean = np.prod(comparison_matrix, axis=1) ** (1 / comparison_matrix.shape[1])\n",
    "    # Normalize the geometric means to get the weights\n",
    "    weights = geom_mean / geom_mean.sum()\n",
    "    return weights\n",
    "\n",
    "weights = pairwise_importance()\n",
    "\n",
    "# Sonuçları yazdırma / Printing the results\n",
    "print(\"Normalized Data (Normalize Edilmiş Veriler):\\n\", normalized_data)\n",
    "print(\"\\n\")\n",
    "\n",
    "# Ağırlıkları belirli kriterlerle yazdırma / Printing the weights with specific criteria\n",
    "criteria = [\"Number of Publications (Akademik Yayın Sayısı)\", \"Student Evaluations (Öğrenci Değerlendirmeleri)\", \"Research Projects (Araştırma Projeleri)\", \"Teaching Experience (Öğretim Deneyimi)\"]\n",
    "for i, weight in enumerate(weights):\n",
    "    print(f\"{criteria[i]} Ağırlığı: {weight:.4f}\")\n"
   ]
  }
 ],
 "metadata": {
  "kernelspec": {
   "display_name": "Python 3 (ipykernel)",
   "language": "python",
   "name": "python3"
  },
  "language_info": {
   "codemirror_mode": {
    "name": "ipython",
    "version": 3
   },
   "file_extension": ".py",
   "mimetype": "text/x-python",
   "name": "python",
   "nbconvert_exporter": "python",
   "pygments_lexer": "ipython3",
   "version": "3.9.0"
  }
 },
 "nbformat": 4,
 "nbformat_minor": 5
}
