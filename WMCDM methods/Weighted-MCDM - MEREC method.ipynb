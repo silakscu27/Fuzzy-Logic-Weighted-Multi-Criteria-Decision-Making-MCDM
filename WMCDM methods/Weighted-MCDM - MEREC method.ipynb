{
 "cells": [
  {
   "cell_type": "markdown",
   "id": "3340d8a2-ce33-4d94-bedb-7383b102943e",
   "metadata": {},
   "source": [
    "<span style=\"font-size:1.2em;font-weight:bold\">Weighting-MCDM MEREC (Method Based On The Removal Effects Of Criteria) METHOD</span>"
   ]
  },
  {
   "cell_type": "markdown",
   "id": "2837cc83-5e76-48e7-b5a5-3c3231ebd0e0",
   "metadata": {},
   "source": [
    "<span style=\"font-size:1em\">\n",
    "A company is looking to select a new software development project from four options: Project A, Project B, Project C, and Project D. The decision criteria are:\n",
    "</br>\n",
    "1. Budget</br>\n",
    "2. Duration</br>\n",
    "3. Team Experience</br>\n",
    "4. Risk Level</br>\n",
    "</br>\n",
    "Steps:</br>\n",
    "1-Normalizing the data..</br>\n",
    "2-Calculating the removal effects of each criterion..</br>\n",
    "3-Calculating the weights using MEREC..</br>\n",
    "</span>"
   ]
  },
  {
   "cell_type": "code",
   "execution_count": 1,
   "id": "0720c44f-a7d4-4f13-944a-92d2ca04cfbd",
   "metadata": {},
   "outputs": [
    {
     "name": "stdout",
     "output_type": "stream",
     "text": [
      "Normalized Data (Normalize Edilmiş Veriler):\n",
      " [[0.5        0.5        0.33333333 0.5       ]\n",
      " [0.         0.16666667 1.         0.        ]\n",
      " [1.         1.         0.66666667 1.        ]\n",
      " [0.3        0.         0.         0.5       ]]\n",
      "\n",
      "Removal Effects (Kaldırma Etkileri):\n",
      " [1.8        1.66666667 2.         2.        ]\n",
      "\n",
      "Weights (Ağırlıklar):\n",
      " [0.24107143 0.22321429 0.26785714 0.26785714]\n"
     ]
    }
   ],
   "source": [
    "import numpy as np\n",
    "\n",
    "# Criteria data for each project\n",
    "data = np.array([\n",
    "    [200000, 12, 5, 3],  # Project A\n",
    "    [150000, 10, 7, 2],  # Project B\n",
    "    [250000, 15, 6, 4],  # Project C\n",
    "    [180000, 9, 4, 3]    # Project D\n",
    "])\n",
    "\n",
    "# Adım 1: Verileri normalize etme / Step 1: Normalizing the data\n",
    "def normalize(data):\n",
    "    # Normalize the data (Min-Max normalization)\n",
    "    normalized_data = (data - data.min(axis=0)) / (data.max(axis=0) - data.min(axis=0))\n",
    "    return normalized_data\n",
    "\n",
    "normalized_data = normalize(data)\n",
    "\n",
    "# Adım 2: Kriterlerin kaldırılma etkilerini hesaplama / Step 2: Calculating the removal effects of each criterion\n",
    "def removal_effects(normalized_data):\n",
    "    # Calculate the overall performance score for each project\n",
    "    overall_performance = normalized_data.sum(axis=1)\n",
    "    \n",
    "    # Calculate the removal effects for each criterion\n",
    "    removal_effects = []\n",
    "    for j in range(normalized_data.shape[1]):\n",
    "        # Remove criterion j and calculate the new overall performance\n",
    "        reduced_data = np.delete(normalized_data, j, axis=1)\n",
    "        new_performance = reduced_data.sum(axis=1)\n",
    "        # Calculate the effect of removing criterion j\n",
    "        effect = np.abs(overall_performance - new_performance).sum()\n",
    "        removal_effects.append(effect)\n",
    "    \n",
    "    return np.array(removal_effects)\n",
    "\n",
    "removal_effects = removal_effects(normalized_data)\n",
    "\n",
    "# Adım 3: MEREC yöntemi ile ağırlıkları hesaplama / Step 3: Calculating the weights using MEREC\n",
    "def calculate_weights(removal_effects):\n",
    "    # Weights are proportional to the removal effects\n",
    "    weights = removal_effects / removal_effects.sum()\n",
    "    return weights\n",
    "\n",
    "weights = calculate_weights(removal_effects)\n",
    "\n",
    "# Sonuçları yazdırma / Printing the results\n",
    "print(\"Normalized Data (Normalize Edilmiş Veriler):\\n\", normalized_data)\n",
    "print(\"\\nRemoval Effects (Kaldırma Etkileri):\\n\", removal_effects)\n",
    "print(\"\\nWeights (Ağırlıklar):\\n\", weights)\n"
   ]
  },
  {
   "cell_type": "code",
   "execution_count": null,
   "id": "b24fd7bc-a09a-4980-a078-345a1349031d",
   "metadata": {},
   "outputs": [],
   "source": []
  }
 ],
 "metadata": {
  "kernelspec": {
   "display_name": "Python 3 (ipykernel)",
   "language": "python",
   "name": "python3"
  },
  "language_info": {
   "codemirror_mode": {
    "name": "ipython",
    "version": 3
   },
   "file_extension": ".py",
   "mimetype": "text/x-python",
   "name": "python",
   "nbconvert_exporter": "python",
   "pygments_lexer": "ipython3",
   "version": "3.9.0"
  }
 },
 "nbformat": 4,
 "nbformat_minor": 5
}
