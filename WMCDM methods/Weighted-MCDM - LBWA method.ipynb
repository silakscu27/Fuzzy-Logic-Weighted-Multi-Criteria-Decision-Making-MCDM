{
 "cells": [
  {
   "cell_type": "markdown",
   "id": "98b9f825-c6ff-4ad7-ae3e-2a354370479a",
   "metadata": {},
   "source": [
    "<span style=\"font-size:1.2em;font-weight:bold\">Weighting-MCDM LBWA (Level Based Weight Assessment) METHOD</span>"
   ]
  },
  {
   "cell_type": "markdown",
   "id": "321cc130-0648-44ab-b009-16a5649ecee6",
   "metadata": {},
   "source": [
    "<span style=\"font-size:1em\">\n",
    "A company will choose a supplier based on various criteria and has identified three candidates:Supplier A, Supplier B and Supplier C. The decision criteria are:\n",
    "</br>\n",
    "1.Price</br>\n",
    "2.Student Evaluation<br>\n",
    "3.Quality<br>\n",
    "4.Service and Support</br>\n",
    "</br>\n",
    "LBWA is a fuzzy logic method used to determine the importance levels of criteria. In this method, criteria are evaluated at different levels and weights are calculated according to these levels.\n",
    "</span>"
   ]
  },
  {
   "cell_type": "code",
   "execution_count": 1,
   "id": "1fe4547e-5eab-4161-bb20-758f293ea1fc",
   "metadata": {},
   "outputs": [
    {
     "name": "stdout",
     "output_type": "stream",
     "text": [
      "Fiyat (Price): 0.09\n",
      "Kalite (Quality): 0.17\n",
      "Teslimat Süresi (Delivery Time): 0.29\n",
      "Servis ve Destek (Service and Support): 0.45\n",
      "Tedarikçi A: 0.70\n",
      "Tedarikçi B: 0.77\n",
      "Tedarikçi C: 0.84\n"
     ]
    }
   ],
   "source": [
    "import numpy as np\n",
    "\n",
    "# Kriterler (Criteria)\n",
    "criteria = ['Fiyat (Price)', 'Kalite (Quality)', 'Teslimat Süresi (Delivery Time)', 'Servis ve Destek (Service and Support)']\n",
    "\n",
    "# LBWA yöntemi ile kriterlerin ağırlıklarını belirleme\n",
    "# Örnek LBWA matrisi (Sample LBWA matrix)\n",
    "lbwa_matrix = np.array([\n",
    "    [1, 0.5, 0.33, 0.25],  # Fiyat (Price)\n",
    "    [2, 1, 0.5, 0.33],     # Kalite (Quality)\n",
    "    [3, 2, 1, 0.5],        # Teslimat Süresi (Delivery Time)\n",
    "    [4, 3, 2, 1]           # Servis ve Destek (Service and Support)\n",
    "])\n",
    "\n",
    "# Ağırlıkların hesaplanması (Calculating weights)\n",
    "def calculate_weights(lbwa_matrix):\n",
    "    row_sums = np.sum(lbwa_matrix, axis=1)\n",
    "    total_sum = np.sum(row_sums)\n",
    "    weights = row_sums / total_sum\n",
    "    return weights\n",
    "\n",
    "weights = calculate_weights(lbwa_matrix)\n",
    "\n",
    "# Sonuçları yazdırma (Printing results)\n",
    "for i, weight in enumerate(weights):\n",
    "    print(f\"{criteria[i]}: {weight:.2f}\")\n",
    "\n",
    "# Tedarikçi değerlendirmesi (Supplier evaluation)\n",
    "# Örnek değerlendirme (Sample evaluation)\n",
    "suppliers = {\n",
    "    'Tedarikçi A': [0.8, 0.9, 0.7, 0.6],  # Fiyat, Kalite, Teslimat Süresi, Servis ve Destek\n",
    "    'Tedarikçi B': [0.6, 0.8, 0.9, 0.7],\n",
    "    'Tedarikçi C': [0.9, 0.7, 0.8, 0.9]\n",
    "}\n",
    "\n",
    "# Değerlendirme fonksiyonu (Evaluation function)\n",
    "def evaluate_supplier(supplier_ratings, weights):\n",
    "    scores = np.dot(supplier_ratings, weights)\n",
    "    return scores\n",
    "\n",
    "# Tedarikçileri değerlendirme ve sonuçları yazdırma (Evaluating suppliers and printing results)\n",
    "for supplier, ratings in suppliers.items():\n",
    "    score = evaluate_supplier(ratings, weights)\n",
    "    print(f\"{supplier}: {score:.2f}\")\n"
   ]
  }
 ],
 "metadata": {
  "kernelspec": {
   "display_name": "Python 3 (ipykernel)",
   "language": "python",
   "name": "python3"
  },
  "language_info": {
   "codemirror_mode": {
    "name": "ipython",
    "version": 3
   },
   "file_extension": ".py",
   "mimetype": "text/x-python",
   "name": "python",
   "nbconvert_exporter": "python",
   "pygments_lexer": "ipython3",
   "version": "3.9.0"
  }
 },
 "nbformat": 4,
 "nbformat_minor": 5
}
