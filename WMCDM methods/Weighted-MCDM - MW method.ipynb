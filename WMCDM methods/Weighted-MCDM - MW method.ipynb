{
 "cells": [
  {
   "cell_type": "markdown",
   "id": "37fc6e9d-1b52-465f-b6cb-31eeae09092c",
   "metadata": {},
   "source": [
    "<span style=\"font-size:1.2em;font-weight:bold\">Weighting-MCDM MW (Mean Weight) METHOD</span>"
   ]
  },
  {
   "cell_type": "markdown",
   "id": "35c76928-6c3d-4589-a8b6-6c21d9cc4fd9",
   "metadata": {},
   "source": [
    "A company is looking to select a new marketing strategy from four options: Strategy A, Strategy B, Strategy C, and Strategy D. The decision criteria are:\n",
    "</br>\n",
    "1. Cost</br>\n",
    "2. Reach</br>\n",
    "3. Engagement</br>\n",
    "4. Conversion Rate</br>\n",
    "</br>\n",
    "Steps:</br>\n",
    "1-Normalizing the data..</br>\n",
    "2-Calculating the mean weights for each criterion..</br>\n",
    "3-Calculating the final weights using MW method..</br>\n",
    "</span>"
   ]
  },
  {
   "cell_type": "code",
   "execution_count": 3,
   "id": "64e83a58-7970-4685-9caa-a5d9825c3ec1",
   "metadata": {},
   "outputs": [
    {
     "name": "stdout",
     "output_type": "stream",
     "text": [
      "Normalized Data (Normalize Edilmiş Veriler):\n",
      " [[0.33333333 0.         0.         0.66666667]\n",
      " [1.         1.         1.         0.33333333]\n",
      " [0.66666667 0.4        0.5        1.        ]\n",
      " [0.         0.2        0.25       0.        ]]\n",
      "\n",
      "\n",
      "Cost (Maliyet) Ağırlığı: 0.2721\n",
      "Reach (Erişim) Ağırlığı: 0.2177\n",
      "Engagement (Etkileşim) Ağırlığı: 0.2381\n",
      "Conversion Rate (Dönüşüm Oranı) Ağırlığı: 0.2721\n"
     ]
    }
   ],
   "source": [
    "import numpy as np\n",
    "\n",
    "# Criteria data for each strategy\n",
    "data = np.array([\n",
    "    [50000, 100000, 3000, 0.05],  # Strategy A\n",
    "    [60000, 150000, 5000, 0.04],  # Strategy B\n",
    "    [55000, 120000, 4000, 0.06],  # Strategy C\n",
    "    [45000, 110000, 3500, 0.03]   # Strategy D\n",
    "])\n",
    "\n",
    "# Adım 1: Verileri normalize etme / Step 1: Normalizing the data\n",
    "def normalize(data):\n",
    "    # Normalize the data (Min-Max normalization)\n",
    "    normalized_data = (data - data.min(axis=0)) / (data.max(axis=0) - data.min(axis=0))\n",
    "    return normalized_data\n",
    "\n",
    "normalized_data = normalize(data)\n",
    "\n",
    "# Adım 2: Kriterler için ortalama ağırlıkları hesaplama / Step 2: Calculating the mean weights for each criterion\n",
    "def mean_weights(normalized_data):\n",
    "    # Calculate the mean value for each criterion\n",
    "    mean_values = np.mean(normalized_data, axis=0)\n",
    "    # Weights are the mean values of the normalized data\n",
    "    weights = mean_values / mean_values.sum()\n",
    "    return weights\n",
    "\n",
    "weights = mean_weights(normalized_data)\n",
    "\n",
    "# Sonuçları yazdırma / Printing the results\n",
    "print(\"Normalized Data (Normalize Edilmiş Veriler):\\n\", normalized_data)\n",
    "print(\"\\n\")\n",
    "\n",
    "# Ağırlıkları belirli kriterlerle yazdırma / Printing the weights with specific criteria\n",
    "criteria = [\"Cost (Maliyet)\", \"Reach (Erişim)\", \"Engagement (Etkileşim)\", \"Conversion Rate (Dönüşüm Oranı)\"]\n",
    "for i, weight in enumerate(weights):\n",
    "    print(f\"{criteria[i]} Ağırlığı: {weight:.4f}\")\n"
   ]
  },
  {
   "cell_type": "code",
   "execution_count": null,
   "id": "a27b86ee-8924-4519-bd0c-e3c5a1220dc0",
   "metadata": {},
   "outputs": [],
   "source": []
  }
 ],
 "metadata": {
  "kernelspec": {
   "display_name": "Python 3 (ipykernel)",
   "language": "python",
   "name": "python3"
  },
  "language_info": {
   "codemirror_mode": {
    "name": "ipython",
    "version": 3
   },
   "file_extension": ".py",
   "mimetype": "text/x-python",
   "name": "python",
   "nbconvert_exporter": "python",
   "pygments_lexer": "ipython3",
   "version": "3.9.0"
  }
 },
 "nbformat": 4,
 "nbformat_minor": 5
}
