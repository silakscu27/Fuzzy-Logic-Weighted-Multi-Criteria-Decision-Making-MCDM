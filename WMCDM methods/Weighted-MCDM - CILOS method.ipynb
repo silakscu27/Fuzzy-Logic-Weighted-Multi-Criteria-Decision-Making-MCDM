{
 "cells": [
  {
   "cell_type": "markdown",
   "id": "62c9bc39-231e-4ef5-b494-dbfa16b763bc",
   "metadata": {},
   "source": [
    "<span style=\"font-size:1.2em;font-weight:bold\">Weighting-MCDM CILOS (Criteria Impact Loss) METHOD</span>"
   ]
  },
  {
   "cell_type": "markdown",
   "id": "45bac54e-26e1-4cf5-9c5d-e9dd3ea3c93c",
   "metadata": {},
   "source": [
    "<span style=\"font-size:1em\">\n",
    "A logistics company wants to choose a new warehouse location and has identified four candidate locations: Location A, Location B, Location C, and Location D. The decision criteria are:</br>\n",
    "1. Cost</br>\n",
    "2. Accessibility</br>\n",
    "3. Security</br>\n",
    "4. Proximity</br>\n",
    "</br>\n",
    "Steps:</br>\n",
    "1- Initially determine the weights for each of the criteria.</br>\n",
    "2- Calculate the impact of the criteria.</br>\n",
    "3- Optimize the weights by minimizing losses.</br>\n",
    "</span>"
   ]
  },
  {
   "cell_type": "code",
   "execution_count": 6,
   "id": "70d9fec7-16e4-46a8-9a03-05efed6c239f",
   "metadata": {},
   "outputs": [
    {
     "name": "stdout",
     "output_type": "stream",
     "text": [
      "Cost Weight: 0.3000\n",
      "Ease of Access Weight: 0.2000\n",
      "Safety Weight: 0.4000\n",
      "Proximity Weight: 0.1000\n"
     ]
    }
   ],
   "source": [
    "import numpy as np\n",
    "from scipy.optimize import minimize\n",
    "\n",
    "# Criteria and initial weights\n",
    "criteria = ['Cost', 'Ease of Access', 'Safety', 'Proximity']\n",
    "initial_weights = np.array([0.3, 0.2, 0.4, 0.1])\n",
    "\n",
    "# Effects of the criteria (example data)\n",
    "effects = {\n",
    "    'Cost': [100000, 150000, 120000, 130000],  \n",
    "    'Ease of Access': [8, 6, 7, 9],             \n",
    "    'Safety': [5, 7, 6, 8],                     \n",
    "    'Proximity': [10, 8, 9, 7]                 \n",
    "}\n",
    "\n",
    "# Normalize the effects\n",
    "def normalize(values, maximize=True):\n",
    "    if maximize:\n",
    "        return (values - np.min(values)) / (np.max(values) - np.min(values))\n",
    "    else:\n",
    "        return (np.max(values) - values) / (np.max(values) - np.min(values))\n",
    "\n",
    "normalized_effects = {}\n",
    "for criterion in criteria:\n",
    "    maximize = criterion in ['Ease of Access', 'Safety', 'Proximity']\n",
    "    normalized_effects[criterion] = normalize(np.array(effects[criterion]), maximize=maximize)\n",
    "\n",
    "# Loss function\n",
    "def loss_function(weights):\n",
    "    weights = np.array(weights)\n",
    "    weights = weights / np.sum(weights)\n",
    "    \n",
    "    total_loss = 0\n",
    "    for i in range(len(effects['Cost'])):\n",
    "        loss = 0\n",
    "        for criterion in criteria:\n",
    "            loss += weights[criteria.index(criterion)] * normalized_effects[criterion][i]\n",
    "        total_loss += loss\n",
    "    \n",
    "    return total_loss\n",
    "\n",
    "# Constraints: weights must sum to 1\n",
    "constraints = ({'type': 'eq', 'fun': lambda weights: np.sum(weights) - 1})\n",
    "\n",
    "# Bounds for each weight: between 0 and 1\n",
    "bounds = [(0, 1) for _ in range(len(criteria))]\n",
    "\n",
    "# Minimize the objective function\n",
    "result = minimize(loss_function, initial_weights, method='SLSQP', bounds=bounds, constraints=constraints)\n",
    "\n",
    "# Optimal weights\n",
    "optimal_weights = result.x / np.sum(result.x)\n",
    "\n",
    "# Print the results\n",
    "for crit, weight in zip(criteria, optimal_weights):\n",
    "    print(f\"{crit} Weight: {weight:.4f}\")\n"
   ]
  },
  {
   "cell_type": "code",
   "execution_count": 5,
   "id": "0842acf5-9128-4e27-ac76-c4fc8ad62d0c",
   "metadata": {},
   "outputs": [
    {
     "name": "stdout",
     "output_type": "stream",
     "text": [
      "Maliyet Ağırlığı: 0.3000\n",
      "Ulaşım Kolaylığı Ağırlığı: 0.2000\n",
      "Güvenlik Ağırlığı: 0.4000\n",
      "Yakınlık Ağırlığı: 0.1000\n"
     ]
    }
   ],
   "source": [
    "import numpy as np\n",
    "from scipy.optimize import minimize\n",
    "\n",
    "# Kriterler ve başlangıç ağırlıkları\n",
    "kriterler = ['Maliyet', 'Ulaşım Kolaylığı', 'Güvenlik', 'Yakınlık']\n",
    "baslangic_agirliklari = np.array([0.3, 0.2, 0.4, 0.1])\n",
    "\n",
    "# Kriterlerin etkileri (örnek veriler)\n",
    "etkiler = {\n",
    "    'Maliyet': [100000, 150000, 120000, 130000],  \n",
    "    'Ulaşım Kolaylığı': [8, 6, 7, 9],           \n",
    "    'Güvenlik': [5, 7, 6, 8],                    \n",
    "    'Yakınlık': [10, 8, 9, 7]                    \n",
    "}\n",
    "\n",
    "# Etkileri normalize et\n",
    "def normalize(values, maximize=True):\n",
    "    if maximize:\n",
    "        return (values - np.min(values)) / (np.max(values) - np.min(values))\n",
    "    else:\n",
    "        return (np.max(values) - values) / (np.max(values) - np.min(values))\n",
    "\n",
    "normalized_etkiler = {}\n",
    "for kriter in kriterler:\n",
    "    maximize = kriter in ['Ulaşım Kolaylığı', 'Güvenlik', 'Yakınlık']\n",
    "    normalized_etkiler[kriter] = normalize(np.array(etkiler[kriter]), maximize=maximize)\n",
    "\n",
    "# Kayıp fonksiyonu\n",
    "def kayip_fonksiyonu(agirliklar):\n",
    "    agirliklar = np.array(agirliklar)\n",
    "    agirliklar = agirliklar / np.sum(agirliklar)\n",
    "    \n",
    "    toplam_kayip = 0\n",
    "    for i in range(len(etkiler['Maliyet'])):\n",
    "        kayip = 0\n",
    "        for kriter in kriterler:\n",
    "            kayip += agirliklar[kriterler.index(kriter)] * normalized_etkiler[kriter][i]\n",
    "        toplam_kayip += kayip\n",
    "    \n",
    "    return toplam_kayip\n",
    "\n",
    "# Kısıtlar: ağırlıkların toplamı 1 olmalı\n",
    "kisitlar = ({'type': 'eq', 'fun': lambda agirliklar: np.sum(agirliklar) - 1})\n",
    "\n",
    "# Her ağırlık için sınırlar: 0 ile 1 arasında\n",
    "sinirlar = [(0, 1) for _ in range(len(kriterler))]\n",
    "\n",
    "# Hedef fonksiyonu minimize et\n",
    "sonuc = minimize(kayip_fonksiyonu, baslangic_agirliklari, method='SLSQP', bounds=sinirlar, constraints=kisitlar)\n",
    "\n",
    "# Optimum ağırlıklar\n",
    "optimum_agirliklar = sonuc.x / np.sum(sonuc.x)\n",
    "\n",
    "# Sonuçları yazdır\n",
    "for krit, agirlik in zip(kriterler, optimum_agirliklar):\n",
    "    print(f\"{krit} Ağırlığı: {agirlik:.4f}\")\n"
   ]
  },
  {
   "cell_type": "code",
   "execution_count": null,
   "id": "d860b5a3-0dc6-49e7-af6d-d91088c27488",
   "metadata": {},
   "outputs": [],
   "source": []
  }
 ],
 "metadata": {
  "kernelspec": {
   "display_name": "Python 3 (ipykernel)",
   "language": "python",
   "name": "python3"
  },
  "language_info": {
   "codemirror_mode": {
    "name": "ipython",
    "version": 3
   },
   "file_extension": ".py",
   "mimetype": "text/x-python",
   "name": "python",
   "nbconvert_exporter": "python",
   "pygments_lexer": "ipython3",
   "version": "3.9.0"
  }
 },
 "nbformat": 4,
 "nbformat_minor": 5
}
