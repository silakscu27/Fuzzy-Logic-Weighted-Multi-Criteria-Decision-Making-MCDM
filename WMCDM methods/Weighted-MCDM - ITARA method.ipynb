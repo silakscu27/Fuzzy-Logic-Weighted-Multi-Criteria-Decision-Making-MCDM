{
 "cells": [
  {
   "cell_type": "markdown",
   "id": "818ded34-048c-407a-a9dd-ac8a5a71ef72",
   "metadata": {},
   "source": [
    "<span style=\"font-size:1.2em;font-weight:bold\">Weighting-MCDM ITARA (Ideal Topology-based Alternatives Ranking Approach) METHOD</span>"
   ]
  },
  {
   "cell_type": "markdown",
   "id": "3f564ad6-a46f-4b9f-9a26-a35219b8cf89",
   "metadata": {},
   "source": [
    "<span style=\"font-size:1em\">\n",
    "A manufacturing company wants to set up a new production line and has chosen three different location options: Location A, Location B, and Location C. The decision criteria are:\n",
    "</br>\n",
    "1. Cost</br>\n",
    "2. Transportation Ease</br>\n",
    "3. Energy Efficiency</br>\n",
    "4. Labor Cost</br>\n",
    "</br>\n",
    "Steps:</br>\n",
    "1- Create the decision matrix.</br>\n",
    "1- Normalize the decision matrix.</br>\n",
    "2- Create the weighted normalized decision matrix.</br>\n",
    "3- Determine the ideal and negative ideal solutions.</br>\n",
    "4- Calculate the similarity of each alternative to the ideal solution.</br>\n",
    "5- Rank the alternatives.</br>\n",
    "</span>"
   ]
  },
  {
   "cell_type": "code",
   "execution_count": 6,
   "id": "bc208e81-ea33-4a6b-95d1-48ced751426a",
   "metadata": {},
   "outputs": [
    {
     "name": "stdout",
     "output_type": "stream",
     "text": [
      "Similarity scores to the ideal solution for each alternative:\n",
      "Location B: 0.5364\n",
      "Location C: 0.5014\n",
      "Location A: 0.4968\n"
     ]
    }
   ],
   "source": [
    "import numpy as np\n",
    "\n",
    "# Criteria and their weights\n",
    "criteria = ['Cost', 'Ease of Transportation', 'Energy Efficiency', 'Labor Cost']\n",
    "weights = np.array([0.4, 0.3, 0.2, 0.1])\n",
    "\n",
    "# Scores for each alternative on each criterion\n",
    "decision_matrix = np.array([\n",
    "    [700, 8, 9, 5],  # Location A\n",
    "    [800, 7, 7, 4],  # Location B\n",
    "    [650, 9, 8, 6]   # Location C\n",
    "])\n",
    "\n",
    "# Normalization function (cost criteria are negative, others are positive)\n",
    "def normalize(matrix):\n",
    "    normalized_matrix = np.zeros(matrix.shape)\n",
    "    for j in range(matrix.shape[1]):\n",
    "        col = matrix[:, j]\n",
    "        if j == 0 or j == 3:  # Cost and Labor Cost (negative)\n",
    "            normalized_matrix[:, j] = col / col.max()\n",
    "        else:  # Ease of Transportation and Energy Efficiency (positive)\n",
    "            normalized_matrix[:, j] = col / col.max()\n",
    "    return normalized_matrix\n",
    "\n",
    "# Weighted normalized decision matrix\n",
    "normalized_matrix = normalize(decision_matrix)\n",
    "weighted_matrix = normalized_matrix * weights\n",
    "\n",
    "# Ideal and negative ideal solutions\n",
    "ideal_solution = np.max(weighted_matrix, axis=0)\n",
    "negative_ideal_solution = np.min(weighted_matrix, axis=0)\n",
    "\n",
    "# Similarity to ideal solution calculation\n",
    "def ideal_similarity(matrix, ideal, negative_ideal):\n",
    "    ideal_similarity = np.zeros(matrix.shape[0])\n",
    "    for i in range(matrix.shape[0]):\n",
    "        ideal_similarity[i] = np.linalg.norm(matrix[i] - ideal) / (np.linalg.norm(matrix[i] - ideal) + np.linalg.norm(matrix[i] - negative_ideal))\n",
    "    return ideal_similarity\n",
    "\n",
    "similarity = ideal_similarity(weighted_matrix, ideal_solution, negative_ideal_solution)\n",
    "\n",
    "# Ranking the alternatives\n",
    "ranking = similarity.argsort()[::-1]\n",
    "\n",
    "# Printing the results\n",
    "print(\"Similarity scores to the ideal solution for each alternative:\")\n",
    "for i, alt in enumerate(ranking):\n",
    "    print(f\"Location {chr(65 + alt)}: {similarity[alt]:.4f}\")"
   ]
  },
  {
   "cell_type": "code",
   "execution_count": 5,
   "id": "d5007f89-0c05-4847-9816-fe3588291775",
   "metadata": {},
   "outputs": [
    {
     "name": "stdout",
     "output_type": "stream",
     "text": [
      "Alternatifler için ideal çözüme benzerlik puanları:\n",
      "Yer B: 0.5364\n",
      "Yer C: 0.5014\n",
      "Yer A: 0.4968\n"
     ]
    }
   ],
   "source": [
    "import numpy as np\n",
    "\n",
    "# Karar kriterleri ve ağırlıkları\n",
    "kriterler = ['Maliyet', 'Ulaşım Kolaylığı', 'Enerji Verimliliği', 'İş Gücü Maliyeti']\n",
    "ağırlıklar = np.array([0.4, 0.3, 0.2, 0.1])\n",
    "\n",
    "# Alternatiflerin her kriter için puanları\n",
    "karar_matrisi = np.array([\n",
    "    [700, 8, 9, 5],  # Yer A\n",
    "    [800, 7, 7, 4],  # Yer B\n",
    "    [650, 9, 8, 6]   # Yer C\n",
    "])\n",
    "\n",
    "# Normalizasyon işlemi (maliyet kriterleri negatif, diğerleri pozitif yönlü)\n",
    "def normalize(matrix):\n",
    "    normalized_matrix = np.zeros(matrix.shape)\n",
    "    for j in range(matrix.shape[1]):\n",
    "        col = matrix[:, j]\n",
    "        if j == 0 or j == 3:  # Maliyet ve İş Gücü Maliyeti (negatif yönlü)\n",
    "            normalized_matrix[:, j] = col / col.max()\n",
    "        else:  # Ulaşım Kolaylığı ve Enerji Verimliliği (pozitif yönlü)\n",
    "            normalized_matrix[:, j] = col / col.max()\n",
    "    return normalized_matrix\n",
    "\n",
    "# Ağırlıklı normalize karar matrisi\n",
    "normalize_matrisi = normalize(karar_matrisi)\n",
    "ağırlıklı_matrisi = normalize_matrisi * ağırlıklar\n",
    "\n",
    "# İdeal ve negatif ideal çözümler\n",
    "ideal_çözüm = np.max(ağırlıklı_matrisi, axis=0)\n",
    "negatif_ideal_çözüm = np.min(ağırlıklı_matrisi, axis=0)\n",
    "\n",
    "# İdeal çözüme benzerlik hesaplaması\n",
    "def ideal_benzerlik(matrix, ideal, negatif_ideal):\n",
    "    ideal_benzerlik = np.zeros(matrix.shape[0])\n",
    "    for i in range(matrix.shape[0]):\n",
    "        ideal_benzerlik[i] = np.linalg.norm(matrix[i] - ideal) / (np.linalg.norm(matrix[i] - ideal) + np.linalg.norm(matrix[i] - negatif_ideal))\n",
    "    return ideal_benzerlik\n",
    "\n",
    "benzerlik = ideal_benzerlik(ağırlıklı_matrisi, ideal_çözüm, negatif_ideal_çözüm)\n",
    "\n",
    "# Alternatiflerin sıralanması\n",
    "sıralama = benzerlik.argsort()[::-1]\n",
    "\n",
    "# Sonuçları yazdırma\n",
    "print(\"Alternatifler için ideal çözüme benzerlik puanları:\")\n",
    "for i, alt in enumerate(sıralama):\n",
    "    print(f\"Yer {chr(65 + alt)}: {benzerlik[alt]:.4f}\")"
   ]
  },
  {
   "cell_type": "code",
   "execution_count": null,
   "id": "cbaadf02-2868-4a30-9297-6e4eb4992312",
   "metadata": {},
   "outputs": [],
   "source": []
  }
 ],
 "metadata": {
  "kernelspec": {
   "display_name": "Python 3 (ipykernel)",
   "language": "python",
   "name": "python3"
  },
  "language_info": {
   "codemirror_mode": {
    "name": "ipython",
    "version": 3
   },
   "file_extension": ".py",
   "mimetype": "text/x-python",
   "name": "python",
   "nbconvert_exporter": "python",
   "pygments_lexer": "ipython3",
   "version": "3.9.0"
  }
 },
 "nbformat": 4,
 "nbformat_minor": 5
}
