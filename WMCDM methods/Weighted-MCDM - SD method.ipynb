{
 "cells": [
  {
   "cell_type": "markdown",
   "id": "94fd8732-4a8a-40e5-ab10-058cb3412ef6",
   "metadata": {},
   "source": [
    "<span style=\"font-size:1.2em;font-weight:bold\">Weighting-MCDM SD (Standart Deviation) METHOD</span>"
   ]
  },
  {
   "cell_type": "markdown",
   "id": "bf227343-1481-484a-9915-19251254a265",
   "metadata": {},
   "source": [
    "<span style=\"font-size:1em\">\n",
    "A family is looking to select a vacation destination from four options: Destination A, Destination B, Destination C, and Destination D. The decision criteria are:\n",
    "</br>\n",
    "1. Cost</br>\n",
    "2. Distance</br>\n",
    "3. Attractions</br>\n",
    "4. Accommodation Quality</br>\n",
    "</br>\n",
    "Steps:</br>\n",
    "1-Normalizing the data..</br>\n",
    "2-Calculating the standard deviation for each criterion..</br>\n",
    "3-Calculating the final weights using SD method..</br>\n",
    "</span>"
   ]
  },
  {
   "cell_type": "code",
   "execution_count": 2,
   "id": "cbacc760-5a55-4cc7-af23-dfe3ca586153",
   "metadata": {},
   "outputs": [
    {
     "name": "stdout",
     "output_type": "stream",
     "text": [
      "Normalized Data (Normalize Edilmiş Veriler):\n",
      " [[0.28571429 0.33333333 0.5        0.5       ]\n",
      " [1.         1.         1.         0.        ]\n",
      " [0.         0.         0.         1.        ]\n",
      " [0.57142857 0.66666667 0.5        0.5       ]]\n",
      "\n",
      "Standard Deviations (Standart Sapmalar):\n",
      " [0.36943144 0.372678   0.35355339 0.35355339]\n",
      "\n",
      "\n",
      "Cost (Maliyet) Ağırlığı: 0.2549\n",
      "Distance (Mesafe) Ağırlığı: 0.2572\n",
      "Attractions (Cazibe Merkezleri) Ağırlığı: 0.2440\n",
      "Accommodation Quality (Konaklama Kalitesi) Ağırlığı: 0.2440\n"
     ]
    }
   ],
   "source": [
    "import numpy as np\n",
    "\n",
    "# Criteria data for each destination\n",
    "data = np.array([\n",
    "    [2000, 500, 8, 7],  # Destination A\n",
    "    [2500, 600, 9, 6],  # Destination B\n",
    "    [1800, 450, 7, 8],  # Destination C\n",
    "    [2200, 550, 8, 7]   # Destination D\n",
    "])\n",
    "\n",
    "# Adım 1: Verileri normalize etme / Step 1: Normalizing the data\n",
    "def normalize(data):\n",
    "    # Normalize the data (Min-Max normalization)\n",
    "    normalized_data = (data - data.min(axis=0)) / (data.max(axis=0) - data.min(axis=0))\n",
    "    return normalized_data\n",
    "\n",
    "normalized_data = normalize(data)\n",
    "\n",
    "# Adım 2: Her kriter için standart sapmayı hesaplama / Step 2: Calculating the standard deviation for each criterion\n",
    "def calculate_sd(normalized_data):\n",
    "    # Calculate the standard deviation for each criterion\n",
    "    std_devs = np.std(normalized_data, axis=0)\n",
    "    return std_devs\n",
    "\n",
    "std_devs = calculate_sd(normalized_data)\n",
    "\n",
    "# Adım 3: SD yöntemi ile nihai ağırlıkları hesaplama / Step 3: Calculating the final weights using SD method\n",
    "def calculate_weights(std_devs):\n",
    "    # Normalize the standard deviations to get the weights\n",
    "    weights = std_devs / std_devs.sum()\n",
    "    return weights\n",
    "\n",
    "weights = calculate_weights(std_devs)\n",
    "\n",
    "# Sonuçları yazdırma / Printing the results\n",
    "print(\"Normalized Data (Normalize Edilmiş Veriler):\\n\", normalized_data)\n",
    "print(\"\\nStandard Deviations (Standart Sapmalar):\\n\", std_devs)\n",
    "print(\"\\n\")\n",
    "\n",
    "# Ağırlıkları belirli kriterlerle yazdırma / Printing the weights with specific criteria\n",
    "criteria = [\"Cost (Maliyet)\", \"Distance (Mesafe)\", \"Attractions (Cazibe Merkezleri)\", \"Accommodation Quality (Konaklama Kalitesi)\"]\n",
    "for i, weight in enumerate(weights):\n",
    "    print(f\"{criteria[i]} Ağırlığı: {weight:.4f}\")\n"
   ]
  }
 ],
 "metadata": {
  "kernelspec": {
   "display_name": "Python 3 (ipykernel)",
   "language": "python",
   "name": "python3"
  },
  "language_info": {
   "codemirror_mode": {
    "name": "ipython",
    "version": 3
   },
   "file_extension": ".py",
   "mimetype": "text/x-python",
   "name": "python",
   "nbconvert_exporter": "python",
   "pygments_lexer": "ipython3",
   "version": "3.9.0"
  }
 },
 "nbformat": 4,
 "nbformat_minor": 5
}
